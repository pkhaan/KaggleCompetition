{
 "cells": [
  {
   "cell_type": "code",
   "execution_count": 1,
   "id": "efec91e1",
   "metadata": {},
   "outputs": [],
   "source": [
    "import re\n",
    "import string\n",
    "import contractions\n",
    "from nltk import word_tokenize, pos_tag\n",
    "from collections import Counter"
   ]
  },
  {
   "cell_type": "code",
   "execution_count": 2,
   "id": "a6581a47",
   "metadata": {},
   "outputs": [],
   "source": [
    "abstracts_list = []\n",
    "with open('data/abstracts.txt', 'r', encoding = \"UTF-8\") as f:  # Read Abstracts\n",
    "    for line in f:\n",
    "        abstracts_list.append(line.split('|--|')[1].replace(\"\\n\", \"\"))  "
   ]
  },
  {
   "cell_type": "code",
   "execution_count": 16,
   "id": "b5fa26de",
   "metadata": {},
   "outputs": [],
   "source": [
    "def remove_round_brackets(txt):\n",
    "    return re.sub('\\(.*?\\)','',txt)\n",
    "\n",
    "def remove_punctuation_marks(txt):\n",
    "    trans = str.maketrans('','', string.punctuation)\n",
    "    return txt.translate(trans)\n",
    "\n",
    "def fix_white_space(txt):\n",
    "    return ' '.join(txt.split())\n",
    "\n",
    "def convert_to_lowercase(txt):\n",
    "    return txt.lower()\n",
    "\n",
    "def remove_contraction(txt):\n",
    "    return contractions.fix(txt)\n",
    "\n",
    "def tokenize_text(txt):\n",
    "    return word_tokenize(txt)\n",
    "\n",
    "def denoise_text(txt):\n",
    "    txt = remove_round_brackets(txt)\n",
    "    txt = remove_punctuation_marks(txt)\n",
    "    txt = fix_white_space(txt)\n",
    "    return txt\n",
    "\n",
    "def normalize_text(txt):\n",
    "    text = convert_to_lowercase(txt)\n",
    "    text = remove_contraction(txt)\n",
    "    tokens = tokenize_text(txt)\n",
    "    return tokens\n",
    "\n",
    "def remove_tags(tokens):\n",
    "    tags = pos_tag(tokens, tagset='universal')\n",
    "    unique_tags = list(Counter(tags))\n",
    "\n",
    "    all_tags = []\n",
    "    for tag in unique_tags:\n",
    "        if(tag[1]==\"ADV\" or tag[1]==\"ADP\" or tag[1]==\"CONJ\" or tag[1]==\"DET\" or tag[1]==\"NUM\" or tag[1]==\"PRT\"or tag[1]==\"PRON\"):\n",
    "            all_tags.append(tag[0])\n",
    "\n",
    "    return [item for item in tokens if item not in all_tags]\n",
    "\n",
    "def remove_common_words(tokens):\n",
    "    common_words = ['is', 'are', 'can', 'be', 'has', 'have', 'been']\n",
    "    return [item for item in tokens if item not in common_words]\n",
    "\n",
    "def clean_up(tokens):\n",
    "    tokens = remove_tags(tokens)\n",
    "    tokens = remove_common_words(tokens)\n",
    "    return tokens\n",
    "\n",
    "abstracts_preprocessed = []\n",
    "for i, txt in enumerate(abstracts_list):\n",
    "    denoised_txt = denoise_text(txt)\n",
    "    tokens = normalize_text(denoised_txt)\n",
    "    abstracts_preprocessed.append(clean_up(tokens))\n",
    "    "
   ]
  },
  {
   "cell_type": "code",
   "execution_count": 17,
   "id": "82f23678",
   "metadata": {},
   "outputs": [],
   "source": [
    "with open('data/abstracts_preprocessed.txt', 'w', encoding = \"UTF-8\") as f: # Write Pre-processed Abstracts\n",
    "    f.write(\"#\".join([\",\".join(item) for item in abstracts_preprocessed]))"
   ]
  },
  {
   "cell_type": "code",
   "execution_count": null,
   "id": "a5b3d7ca",
   "metadata": {},
   "outputs": [],
   "source": []
  }
 ],
 "metadata": {
  "kernelspec": {
   "display_name": "Python 3 (ipykernel)",
   "language": "python",
   "name": "python3"
  },
  "language_info": {
   "codemirror_mode": {
    "name": "ipython",
    "version": 3
   },
   "file_extension": ".py",
   "mimetype": "text/x-python",
   "name": "python",
   "nbconvert_exporter": "python",
   "pygments_lexer": "ipython3",
   "version": "3.9.7"
  }
 },
 "nbformat": 4,
 "nbformat_minor": 5
}
