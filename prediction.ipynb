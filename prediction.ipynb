{
 "cells": [
  {
   "cell_type": "markdown",
   "id": "b1877919",
   "metadata": {},
   "source": [
    "#KAGGLE COMPETITON AUEB 2021-2022\n",
    "##Link Citation Prediction\n",
    "#####Link prediction is the problem of predicting the existence of a link between two entities in a network.\n",
    "\n",
    "The problem of link prediction has recently attracted a lot of attention in many domains. For instance, in social networks, one may be interested in predicting friendship links among users, while in biology, predicting interactions between genes and proteins is of paramount importance.\n",
    "\n",
    "In this challenge, you will deal with the problem of predicting whether a research paper cites another research paper. You are given a citation network consisting of several thousands of research papers, along with their abstracts and their list of authors. The pipeline that is typically followed to deal with the problem is similar to the one applied in any classification problem; the goal is to use edge information to learn the parameters of a classifier and then to use the classifier to predict whether two nodes are linked by an edge or not.\n",
    "\n",
    "Next, we also provide a simple approach, on which you can work. The key component is how we create our training and test data. For training, you may first create a numpy array of zeros with 2m rows and n columns (where m is the number of edges in the edgelist file, and n the number of desired features). We then need to populate this array to create the training features. A way to do that is to iterate over all edges in the edgelist file, and if we want to have 3 features: we get the degree of the first node of the edge as the 1st column, the degree of the 2nd node of the edge as the 2nd column and their sum as the 3rd column. For the remaining m rows, we select randomly nodes and get their degrees and sum as features as well. Now we have our matrix for training. We also need to create the y classes. We create a vector of zeros with size 2m. The first m elements represent the edges that are present in the edgelist. Thus we make them 1. The remaining need to be 0, as they represent non-existing edges. We are now ready to give the features and classes to a scikitlearn classifier via the 'fit' method. Afterwards, we only need to create a similar feature matrix for the test file. We then need the probabilities of our predictions. Remember to get the probabilities only for the positive class. Please, check the 'submissionsrandom' file to check if the format matches your output. The 1st column in the submissions file represents an id integer of the edges in test file. 0 points to the first edge of the test file and so on. You are now ready to submit!"
   ]
  },
  {
   "cell_type": "markdown",
   "id": "24b42235",
   "metadata": {},
   "source": [
    "\t---"
   ]
  },
  {
   "cell_type": "code",
   "execution_count": null,
   "id": "d13d01d6",
   "metadata": {},
   "outputs": [],
   "source": [
    "import pandas as pd\n",
    "import numpy as np\n",
    "import random\n",
    "import networkx as nx\n",
    "from tqdm import tqdm\n",
    "import re\n",
    "import matplotlib.pyplot as plt\n",
    "\n",
    "from sklearn.linear_model import LogisticRegression\n",
    "from sklearn.metrics import classification_report, roc_auc_score\n",
    "from sklearn.model_selection import train_test_split\n",
    "from sklearn.metrics import confusion_matrix\n"
   ]
  },
  {
   "cell_type": "code",
   "execution_count": null,
   "id": "3c331146",
   "metadata": {},
   "outputs": [],
   "source": [
    "# load nodes details\n",
    "with open(\"authors.txt\") as f:\n",
    "    nodes = f.read().splitlines() \n",
    "\n",
    "# load edges (or links)\n",
    "with open(\"edgelist.txt\") as f:\n",
    "    links = f.read().splitlines() \n",
    "\n",
    "len(nodes), len(links)"
   ]
  },
  {
   "cell_type": "code",
   "execution_count": 1,
   "id": "f7820b0a",
   "metadata": {
    "scrolled": false
   },
   "outputs": [
    {
     "ename": "NameError",
     "evalue": "name 'nx' is not defined",
     "output_type": "error",
     "traceback": [
      "\u001b[1;31m---------------------------------------------------------------------------\u001b[0m",
      "\u001b[1;31mNameError\u001b[0m                                 Traceback (most recent call last)",
      "\u001b[1;32m~\\AppData\\Local\\Temp/ipykernel_7864/382373890.py\u001b[0m in \u001b[0;36m<module>\u001b[1;34m\u001b[0m\n\u001b[0;32m      1\u001b[0m \u001b[1;31m# create graph\u001b[0m\u001b[1;33m\u001b[0m\u001b[1;33m\u001b[0m\u001b[0m\n\u001b[1;32m----> 2\u001b[1;33m \u001b[0mG\u001b[0m \u001b[1;33m=\u001b[0m \u001b[0mnx\u001b[0m\u001b[1;33m.\u001b[0m\u001b[0mfrom_pandas_edgelist\u001b[0m\u001b[1;33m(\u001b[0m\u001b[0mfb_df\u001b[0m\u001b[1;33m,\u001b[0m \u001b[1;34m\"node_1\"\u001b[0m\u001b[1;33m,\u001b[0m \u001b[1;34m\"node_2\"\u001b[0m\u001b[1;33m,\u001b[0m \u001b[0mcreate_using\u001b[0m\u001b[1;33m=\u001b[0m\u001b[0mnx\u001b[0m\u001b[1;33m.\u001b[0m\u001b[0mGraph\u001b[0m\u001b[1;33m(\u001b[0m\u001b[1;33m)\u001b[0m\u001b[1;33m)\u001b[0m\u001b[1;33m\u001b[0m\u001b[1;33m\u001b[0m\u001b[0m\n\u001b[0m\u001b[0;32m      3\u001b[0m \u001b[1;33m\u001b[0m\u001b[0m\n\u001b[0;32m      4\u001b[0m \u001b[1;31m# plot graph\u001b[0m\u001b[1;33m\u001b[0m\u001b[1;33m\u001b[0m\u001b[0m\n\u001b[0;32m      5\u001b[0m \u001b[0mplt\u001b[0m\u001b[1;33m.\u001b[0m\u001b[0mfigure\u001b[0m\u001b[1;33m(\u001b[0m\u001b[0mfigsize\u001b[0m\u001b[1;33m=\u001b[0m\u001b[1;33m(\u001b[0m\u001b[1;36m10\u001b[0m\u001b[1;33m,\u001b[0m\u001b[1;36m10\u001b[0m\u001b[1;33m)\u001b[0m\u001b[1;33m)\u001b[0m\u001b[1;33m\u001b[0m\u001b[1;33m\u001b[0m\u001b[0m\n",
      "\u001b[1;31mNameError\u001b[0m: name 'nx' is not defined"
     ]
    }
   ],
   "source": [
    "# issue 2 separate lists for each node \n",
    "node_list_1 = []\n",
    "node_list_2 = []\n",
    "\n",
    "for i in tqdm(fb_links):\n",
    "  node_list_1.append(i.split(',')[0])\n",
    "  node_list_2.append(i.split(',')[1])\n",
    "\n",
    "dF = pd.DataFrame({'node_1': node_list_1, 'node_2': node_list_2})\n"
   ]
  },
  {
   "cell_type": "code",
   "execution_count": null,
   "id": "d8cdce07",
   "metadata": {},
   "outputs": [],
   "source": [
    "# create graph\n",
    "G = nx.from_pandas_edgelist(fb_df, \"node_1\", \"node_2\", create_using=nx.Graph())\n",
    "\n",
    "# plot graph\n",
    "plt.figure(figsize=(10,10))\n",
    "\n",
    "pos = nx.random_layout(G, seed=23)\n",
    "nx.draw(G, with_labels=False,  pos = pos, node_size = 40, alpha = 0.6, width = 0.7)\n",
    "\n",
    "plt.show()"
   ]
  }
 ],
 "metadata": {
  "kernelspec": {
   "display_name": "Python 3 (ipykernel)",
   "language": "python",
   "name": "python3"
  },
  "language_info": {
   "codemirror_mode": {
    "name": "ipython",
    "version": 3
   },
   "file_extension": ".py",
   "mimetype": "text/x-python",
   "name": "python",
   "nbconvert_exporter": "python",
   "pygments_lexer": "ipython3",
   "version": "3.9.7"
  }
 },
 "nbformat": 4,
 "nbformat_minor": 5
}
