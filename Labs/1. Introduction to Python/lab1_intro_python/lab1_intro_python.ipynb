{
 "cells": [
  {
   "cell_type": "markdown",
   "metadata": {},
   "source": [
    "# Lab 1: Introduction to Python"
   ]
  },
  {
   "cell_type": "markdown",
   "metadata": {},
   "source": [
    "Adapted from the cs228 Python tutorial by Volodymyr Kuleshov and Isaac Caswell (https://github.com/kuleshov/cs228-material/blob/master/tutorials/python/cs228-python-tutorial.ipynb)"
   ]
  },
  {
   "cell_type": "markdown",
   "metadata": {},
   "source": [
    "## Introduction"
   ]
  },
  {
   "cell_type": "markdown",
   "metadata": {},
   "source": [
    "Python is a widely used high-level, general-purpose programming language. If you are familiar with the basic concepts of programming, it will be easy for you to learn Python. More specifically, Python incorporates many features from other well-known programming languages such as C and Java, so this class aims at giving you an idea of how Python is similar/different from your favorite programming language.\n",
    "\n",
    "In this course, we will employ some popular Python libraries (Numpy, Matplotlib, etc.) creating a powerful environment which will allow us to develop data mining/machine learning applications."
   ]
  },
  {
   "cell_type": "markdown",
   "metadata": {},
   "source": [
    "### Python versions"
   ]
  },
  {
   "cell_type": "markdown",
   "metadata": {},
   "source": [
    "There are currently two different supported versions of Python, 2.7 and 3.6. Although Python 3 is the latest generation of the language, many programmers still use Python 2.7, the final update to Python 2, which was released in 2010. Python 3 has some incompatibilities with Python 2, so code written for 2.7 may not work under 3.6 and vice versa. For this class, we will write code in Python 2.7, so be sure that you have installed that version on your machines."
   ]
  },
  {
   "cell_type": "markdown",
   "metadata": {},
   "source": [
    "### Python program files"
   ]
  },
  {
   "cell_type": "markdown",
   "metadata": {},
   "source": [
    "* Python code is usually stored in text files with the file ending \"`.py`\".\n",
    "\n",
    "\n",
    "* Every line in a Python program file is assumed to be a Python statement, or part thereof. \n",
    "\n",
    "    * The only exception is comment lines, which start with the character `#`.\n",
    "\n",
    "\n",
    "* Create a new file:\n",
    "        myprogram.py\n",
    "        \n",
    "* Put the following line into your file:\n",
    "        print \"Hello World!!!\"\n",
    "        \n",
    "* Run your Python program from the command line as follows:\n",
    "        $ python myprogram.py"
   ]
  },
  {
   "cell_type": "markdown",
   "metadata": {},
   "source": [
    "### Character encoding"
   ]
  },
  {
   "cell_type": "markdown",
   "metadata": {},
   "source": [
    "* The standard character encoding is ASCII.\n",
    "\n",
    "\n",
    "* In the file you created, replace the `\"Hello World!!!\"` message with the following:\n",
    "    \n",
    "        \"Καλημέρα Κόσμε!!!\"\n",
    "\n",
    "* Run again the Python program from the command line.\n",
    "\n",
    "        $ python myprogram.py\n",
    "        \n",
    "* An error message appears due to the ASCII encoding.\n",
    "\n",
    "        \n",
    "* Using the UTF-8 encoding will solve the problem. To specify that UTF-8 is used, include the special line\n",
    "\n",
    "        # -*- coding: UTF-8 -*-\n",
    "\n",
    "    at the top of the file."
   ]
  },
  {
   "cell_type": "markdown",
   "metadata": {},
   "source": [
    "### IPython notebooks"
   ]
  },
  {
   "cell_type": "markdown",
   "metadata": {},
   "source": [
    "This file - an IPython notebook -  does not follow the standard pattern with Python code in a text file. Specifically, an IPython notebook is a [JSON](http://en.wikipedia.org/wiki/JSON) document containing an ordered list of cells. These cells can contain not only Python code, but also text, mathematics and code output. To run an IPython notebook, the IPython notebook server has first to be launched."
   ]
  },
  {
   "cell_type": "markdown",
   "metadata": {},
   "source": [
    "## Standard I/O"
   ]
  },
  {
   "cell_type": "code",
   "execution_count": 2,
   "metadata": {},
   "outputs": [],
   "source": [
    "# -*- coding: UTF-8 -*-\n",
    "\n",
    "from __future__ import print_function\n"
   ]
  },
  {
   "cell_type": "markdown",
   "metadata": {},
   "source": [
    "You can print a message as follows:"
   ]
  },
  {
   "cell_type": "code",
   "execution_count": 3,
   "metadata": {},
   "outputs": [
    {
     "name": "stdout",
     "output_type": "stream",
     "text": [
      "Hello World!!!\n"
     ]
    }
   ],
   "source": [
    "print(\"Hello World!!!\")"
   ]
  },
  {
   "cell_type": "markdown",
   "metadata": {},
   "source": [
    "You can read from the standard input as follows:"
   ]
  },
  {
   "cell_type": "code",
   "execution_count": 4,
   "metadata": {},
   "outputs": [
    {
     "name": "stdout",
     "output_type": "stream",
     "text": [
      "What is your name? Stamatis\n",
      "Nice to meet you Stamatis\n"
     ]
    }
   ],
   "source": [
    "name = input(\"What is your name? \")\n",
    "print(\"Nice to meet you \" + name)"
   ]
  },
  {
   "cell_type": "markdown",
   "metadata": {},
   "source": [
    "Write code that asks from the user her favorite fruit and print it on the standard output."
   ]
  },
  {
   "cell_type": "code",
   "execution_count": 6,
   "metadata": {},
   "outputs": [],
   "source": [
    "#your code here\n"
   ]
  },
  {
   "cell_type": "markdown",
   "metadata": {},
   "source": [
    "## Data types"
   ]
  },
  {
   "cell_type": "markdown",
   "metadata": {},
   "source": [
    "Basic data types include:\n",
    "\n",
    "1. Integers\n",
    "2. Floats\n",
    "3. Booleans\n",
    "4. Strings\n",
    "\n",
    "Note that Python **doesn't require explicitly declared variable types** like C and other languages. "
   ]
  },
  {
   "cell_type": "markdown",
   "metadata": {},
   "source": [
    "### Numbers (integers and Floats)"
   ]
  },
  {
   "cell_type": "markdown",
   "metadata": {},
   "source": [
    "Integers and floats work as you would expect from other languages:"
   ]
  },
  {
   "cell_type": "code",
   "execution_count": 1,
   "metadata": {},
   "outputs": [
    {
     "name": "stdout",
     "output_type": "stream",
     "text": [
      "10\n",
      "<class 'int'>\n"
     ]
    }
   ],
   "source": [
    "x = 10\n",
    "print(x)\n",
    "print(type(x))"
   ]
  },
  {
   "cell_type": "code",
   "execution_count": 3,
   "metadata": {},
   "outputs": [
    {
     "name": "stdout",
     "output_type": "stream",
     "text": [
      "11\n",
      "9\n",
      "20\n",
      "100\n"
     ]
    }
   ],
   "source": [
    "print (x + 1)   # Addition\n",
    "print (x - 1) # Subtraction\n",
    "print (x * 2)   # Multiplication\n",
    "print (x ** 2) # Exponentiation"
   ]
  },
  {
   "cell_type": "code",
   "execution_count": 4,
   "metadata": {},
   "outputs": [
    {
     "name": "stdout",
     "output_type": "stream",
     "text": [
      "11\n",
      "55\n"
     ]
    }
   ],
   "source": [
    "x += 1 # Increase by one\n",
    "print (x) \n",
    "x *= 5 # Multiply by 5\n",
    "print (x) "
   ]
  },
  {
   "cell_type": "code",
   "execution_count": 5,
   "metadata": {},
   "outputs": [
    {
     "name": "stdout",
     "output_type": "stream",
     "text": [
      "4.2\n",
      "<class 'float'>\n"
     ]
    }
   ],
   "source": [
    "y = 4.2\n",
    "print (y)\n",
    "print (type(y))"
   ]
  },
  {
   "cell_type": "code",
   "execution_count": 11,
   "metadata": {},
   "outputs": [
    {
     "name": "stdout",
     "output_type": "stream",
     "text": [
      "5.7\n",
      "3.0\n",
      "8.82\n",
      "17.64\n"
     ]
    }
   ],
   "source": [
    "print (y + 1.5)  # Addition\n",
    "print (y - 1.2)  # Subtraction\n",
    "print (y * 2.1)   # Multiplication\n",
    "print (y ** 2)  # Exponentiation"
   ]
  },
  {
   "cell_type": "markdown",
   "metadata": {},
   "source": [
    "In contrast to other languages, Python does not support unary increment (x++) or decrement (x--):"
   ]
  },
  {
   "cell_type": "code",
   "execution_count": 6,
   "metadata": {},
   "outputs": [
    {
     "ename": "SyntaxError",
     "evalue": "invalid syntax (<ipython-input-6-700c532b6a91>, line 1)",
     "output_type": "error",
     "traceback": [
      "\u001b[1;36m  File \u001b[1;32m\"<ipython-input-6-700c532b6a91>\"\u001b[1;36m, line \u001b[1;32m1\u001b[0m\n\u001b[1;33m    print(x++)\u001b[0m\n\u001b[1;37m             ^\u001b[0m\n\u001b[1;31mSyntaxError\u001b[0m\u001b[1;31m:\u001b[0m invalid syntax\n"
     ]
    }
   ],
   "source": [
    "print(x++)"
   ]
  },
  {
   "cell_type": "markdown",
   "metadata": {},
   "source": [
    "Pay attention to **divisions**.\n",
    "* In Python 3, / is float division.\n",
    "* In Python 2, / is integer division (assuming int inputs).\n",
    "* In both 2 and 3, // is integer division."
   ]
  },
  {
   "cell_type": "code",
   "execution_count": 7,
   "metadata": {},
   "outputs": [
    {
     "name": "stdout",
     "output_type": "stream",
     "text": [
      "3.3333333333333335\n",
      "3\n"
     ]
    }
   ],
   "source": [
    "a = 3\n",
    "print(10/a)\n",
    "print(10//a)"
   ]
  },
  {
   "cell_type": "markdown",
   "metadata": {},
   "source": [
    "If you want a floating point answer, one of the numbers must be a float. You can do one of the following:"
   ]
  },
  {
   "cell_type": "code",
   "execution_count": 8,
   "metadata": {},
   "outputs": [
    {
     "name": "stdout",
     "output_type": "stream",
     "text": [
      "3.3333333333333335\n",
      "\n",
      "3.3333333333333335\n",
      "\n",
      "3.3333333333333335\n"
     ]
    }
   ],
   "source": [
    "print(10./a)\n",
    "print()\n",
    "print(10/float(a))\n",
    "print()\n",
    "print(float(10)/a)"
   ]
  },
  {
   "cell_type": "markdown",
   "metadata": {},
   "source": [
    "Write code to compute the following expression: $3 \\cdot \\frac{(8-5)^2 \\cdot 3}{5}$"
   ]
  },
  {
   "cell_type": "code",
   "execution_count": 15,
   "metadata": {},
   "outputs": [],
   "source": [
    "#your code here\n"
   ]
  },
  {
   "cell_type": "markdown",
   "metadata": {},
   "source": [
    "### Booleans"
   ]
  },
  {
   "cell_type": "markdown",
   "metadata": {},
   "source": [
    "Booleans also work as you would expect from other languages:"
   ]
  },
  {
   "cell_type": "code",
   "execution_count": 9,
   "metadata": {},
   "outputs": [
    {
     "name": "stdout",
     "output_type": "stream",
     "text": [
      "<class 'bool'>\n"
     ]
    }
   ],
   "source": [
    "t = True\n",
    "f = False\n",
    "print(type(t))"
   ]
  },
  {
   "cell_type": "markdown",
   "metadata": {},
   "source": [
    "Python implements all of the usual operators for Boolean logic:"
   ]
  },
  {
   "cell_type": "code",
   "execution_count": 10,
   "metadata": {},
   "outputs": [
    {
     "name": "stdout",
     "output_type": "stream",
     "text": [
      "False\n",
      "True\n",
      "False\n",
      "True\n"
     ]
    }
   ],
   "source": [
    "print (t and f) # Logical AND\n",
    "print (t or f)# Logical OR\n",
    "print (not t)   # Logical NOT\n",
    "print (t != f) # Logical XOR"
   ]
  },
  {
   "cell_type": "markdown",
   "metadata": {},
   "source": [
    "What is the result of the expression $(True \\enspace AND \\enspace False) \\enspace OR \\enspace (True \\enspace OR \\enspace False)$?"
   ]
  },
  {
   "cell_type": "code",
   "execution_count": 19,
   "metadata": {},
   "outputs": [],
   "source": [
    "#your code here\n"
   ]
  },
  {
   "cell_type": "markdown",
   "metadata": {},
   "source": [
    "### Strings"
   ]
  },
  {
   "cell_type": "markdown",
   "metadata": {},
   "source": [
    "Strings are a very important type in Python and we will make an extensive use of them. We can create them simply by enclosing characters in quotes. We can use either single quotes or double quotes."
   ]
  },
  {
   "cell_type": "code",
   "execution_count": 12,
   "metadata": {},
   "outputs": [
    {
     "name": "stdout",
     "output_type": "stream",
     "text": [
      "hello\n",
      "world\n",
      "5\n"
     ]
    }
   ],
   "source": [
    "h = 'hello'   # String literals can use single quotes\n",
    "w = \"world\"   # or double quotes\n",
    "print(h)\n",
    "print(w)\n",
    "print(len(h))"
   ]
  },
  {
   "cell_type": "markdown",
   "metadata": {},
   "source": [
    "String manipulation is very easy in Python:"
   ]
  },
  {
   "cell_type": "code",
   "execution_count": 21,
   "metadata": {},
   "outputs": [
    {
     "name": "stdout",
     "output_type": "stream",
     "text": [
      "hello world\n"
     ]
    }
   ],
   "source": [
    "# Concatenation\n",
    "hw = h + \" \" + w\n",
    "print (hw)"
   ]
  },
  {
   "cell_type": "code",
   "execution_count": 22,
   "metadata": {},
   "outputs": [
    {
     "name": "stdout",
     "output_type": "stream",
     "text": [
      "w\n",
      "d\n",
      "or\n"
     ]
    }
   ],
   "source": [
    "# Slicing\n",
    "print (w[0])\n",
    "print (w[-1])\n",
    "print (w[1:3])"
   ]
  },
  {
   "cell_type": "markdown",
   "metadata": {},
   "source": [
    "Create two strings $s1$=_'you are very tired'_ and $s2$=_'fight for the best'_. Concatenate the first $8$ characters of $s1$ with the last $8$ characters of $s2$ into a new string $s3$ and print it."
   ]
  },
  {
   "cell_type": "code",
   "execution_count": 23,
   "metadata": {},
   "outputs": [],
   "source": [
    "#your code here\n"
   ]
  },
  {
   "cell_type": "code",
   "execution_count": 24,
   "metadata": {},
   "outputs": [
    {
     "name": "stdout",
     "output_type": "stream",
     "text": [
      "Hello world\n",
      "HELLO WORLD\n",
      "False\n",
      "True\n",
      "he110 w0r1[)\n",
      "['hello', 'world']\n",
      "['hell', ' w', 'rld']\n"
     ]
    }
   ],
   "source": [
    "# Other string functions\n",
    "s = \"hello world\"\n",
    "print (s.capitalize())      # Capitalize string\n",
    "print (s.upper()       )    # To uppercase\n",
    "print (s.startswith(\"wo\"))  # Check if string starts with the \"wo\" characters\n",
    "print (s.endswith(\"rld\")  ) # Check if string ends with the \"rld\" characters\n",
    "print (s.replace(\"o\",\"0\").replace(\"d\",\"[)\").replace(\"l\",\"1\") ) # Replace all instances of one substring with another\n",
    "print (s.split() )          # Split the string on all whitespaces \n",
    "print (s.split('o'))        # Split the string on all 'o' characters"
   ]
  },
  {
   "cell_type": "markdown",
   "metadata": {},
   "source": [
    "## Functions\n",
    "\n",
    "Python functions are created as follows:"
   ]
  },
  {
   "cell_type": "code",
   "execution_count": 25,
   "metadata": {},
   "outputs": [],
   "source": [
    "# function that tells which size to choose given height\n",
    "def size_clothes(height):\n",
    "    if height > 190:\n",
    "        return 'L'\n",
    "    elif height < 160:\n",
    "        return 'S'\n",
    "    else:\n",
    "        return 'M'"
   ]
  },
  {
   "cell_type": "markdown",
   "metadata": {},
   "source": [
    "You can call the function as follows:"
   ]
  },
  {
   "cell_type": "code",
   "execution_count": 26,
   "metadata": {},
   "outputs": [
    {
     "name": "stdout",
     "output_type": "stream",
     "text": [
      "M\n"
     ]
    }
   ],
   "source": [
    "print(size_clothes(165))"
   ]
  },
  {
   "cell_type": "markdown",
   "metadata": {},
   "source": [
    "Write a function that takes as input a number and returns if the number is positive, negative or zero. Run your function for the values $12.2$, $0$ and $-4$."
   ]
  },
  {
   "cell_type": "code",
   "execution_count": 27,
   "metadata": {},
   "outputs": [],
   "source": [
    "#your code here\n"
   ]
  },
  {
   "cell_type": "markdown",
   "metadata": {},
   "source": [
    "## Containers\n",
    "\n",
    "Python includes several built-in container types. For example, lists, tuples, sets and dictionaries are types that can hold multiple values."
   ]
  },
  {
   "cell_type": "markdown",
   "metadata": {},
   "source": [
    "### Lists\n",
    "\n",
    "A list is a collection of data and can contain elements of different types. In contast to tuples, lists are mutable and can be altered after initialization.  "
   ]
  },
  {
   "cell_type": "code",
   "execution_count": 28,
   "metadata": {},
   "outputs": [
    {
     "name": "stdout",
     "output_type": "stream",
     "text": [
      "valencia\n",
      "real madrid\n",
      "celta\n",
      "4\n",
      "['barcelona', 'celta', 'real madrid', 'valencia']\n",
      "['barcelona', 'real madrid', 'valencia']\n",
      "[4, 'real madrid', 'valencia']\n"
     ]
    }
   ],
   "source": [
    "teams = []\n",
    "\n",
    "# Add to list\n",
    "teams.append(\"real madrid\")  \n",
    "teams.append(\"barcelona\") \n",
    "teams.append(\"valencia\")\n",
    "teams.append(\"celta\")  \n",
    "\n",
    "# Access by index\n",
    "print(teams[2])\n",
    "print(teams[0])\n",
    "print(teams[-1])\n",
    "\n",
    "# Find number of things in list\n",
    "print(len(teams))\n",
    "\n",
    "# Sort the items in the list\n",
    "teams.sort()\n",
    "print( teams)\n",
    "\n",
    "# Remove from list\n",
    "teams.remove(\"celta\")\n",
    "print(teams)\n",
    "\n",
    "#The list is mutable\n",
    "teams[0] = 4\n",
    "print(teams)"
   ]
  },
  {
   "cell_type": "markdown",
   "metadata": {},
   "source": [
    "We can access list elements one at a time as shown above. We can also access parts of the lists (known as slicing). For example:"
   ]
  },
  {
   "cell_type": "code",
   "execution_count": 29,
   "metadata": {},
   "outputs": [
    {
     "name": "stdout",
     "output_type": "stream",
     "text": [
      "['c', 'd']\n",
      "['c', 'd', 'e', 'f']\n",
      "['a', 'b']\n",
      "['a', 'b', 'c', 'd', 'e']\n"
     ]
    }
   ],
   "source": [
    "letters = ['a','b','c','d','e','f']\n",
    "\n",
    "print(letters[2:4])  # Get a slice from index 2 to 4 (exclusive)\n",
    "print(letters[2:] )  # Get a slice from index 2 to the end\n",
    "print (letters[:2] )  # Get a slice from the start to index 2 (exclusive)\n",
    "print (letters[:-1] ) # Slice indices can be negative"
   ]
  },
  {
   "cell_type": "markdown",
   "metadata": {},
   "source": [
    "We can loop over the elements of a list as follows:"
   ]
  },
  {
   "cell_type": "code",
   "execution_count": 30,
   "metadata": {},
   "outputs": [
    {
     "name": "stdout",
     "output_type": "stream",
     "text": [
      "aueb\n",
      "ntua\n",
      "upatras\n"
     ]
    }
   ],
   "source": [
    "unis = ['aueb', 'ntua', 'upatras']\n",
    "\n",
    "for uni in unis:\n",
    "    print(uni)"
   ]
  },
  {
   "cell_type": "markdown",
   "metadata": {},
   "source": [
    "Create a list with your favorite actors/actresses. Print the first two of them. Remove the third actor/actress from the list. Loop over the elements of the list and print one element at a time."
   ]
  },
  {
   "cell_type": "code",
   "execution_count": 31,
   "metadata": {},
   "outputs": [],
   "source": [
    "#your code here\n"
   ]
  },
  {
   "cell_type": "markdown",
   "metadata": {},
   "source": [
    "List comprehension works as follows:"
   ]
  },
  {
   "cell_type": "code",
   "execution_count": 32,
   "metadata": {},
   "outputs": [
    {
     "name": "stdout",
     "output_type": "stream",
     "text": [
      "[0, 1, 4, 9, 16]\n"
     ]
    }
   ],
   "source": [
    "nums = [0, 1, 2, 3, 4]\n",
    "squares = [x ** 2 for x in nums] # List with the squares of the elements of nums\n",
    "print (squares)"
   ]
  },
  {
   "cell_type": "markdown",
   "metadata": {},
   "source": [
    "It can also contain conditions:"
   ]
  },
  {
   "cell_type": "code",
   "execution_count": 33,
   "metadata": {},
   "outputs": [
    {
     "name": "stdout",
     "output_type": "stream",
     "text": [
      "[16, 25, 36]\n"
     ]
    }
   ],
   "source": [
    "nums = [0, 1, 2, 3, 4, 5, 6]\n",
    "squares = [x ** 2 for x in nums if x > 3]\n",
    "print(squares)"
   ]
  },
  {
   "cell_type": "markdown",
   "metadata": {},
   "source": [
    "Create a list containing integers from $0$ to $10$. Use list comprehension to create a new list containing only the prime numbers of the initial list. Print the new list.\n",
    "\n",
    "A simple but slow method of checking the primality of a given number x, called trial division, tests whether x is a multiple of any integer between 2 and $\\sqrt{x}$"
   ]
  },
  {
   "cell_type": "code",
   "execution_count": 34,
   "metadata": {},
   "outputs": [],
   "source": [
    "#your code here\n",
    "from math import sqrt\n"
   ]
  },
  {
   "cell_type": "markdown",
   "metadata": {},
   "source": [
    "### Tuples\n",
    "\n",
    "A tuple is an immutable ordered list of values. Tuples are similar to lists. However, once they are created, they cannot be altered. They can also be used as keys in dictionaries. Below, we give a simple example:"
   ]
  },
  {
   "cell_type": "code",
   "execution_count": 35,
   "metadata": {},
   "outputs": [
    {
     "name": "stdout",
     "output_type": "stream",
     "text": [
      "('red', 'green', 'white', 10.2, 1)\n",
      "('red', 'green', 'white', 'black', 1)\n"
     ]
    }
   ],
   "source": [
    "colors = ('red', 'green', 'white', 10.2, 1) # Initialize tuple\n",
    "\n",
    "print(colors)\n",
    "lst = list(colors)\n",
    "lst[3] = 'black' # Change value of element\n",
    "lst=tuple(lst)\n",
    "print(lst)"
   ]
  },
  {
   "cell_type": "markdown",
   "metadata": {},
   "source": [
    "### Sets\n",
    "\n",
    "A set is an unordered collection of items. Sets cannot contain duplicates, hence, their items are distinct. As a simple example, consider the following code:"
   ]
  },
  {
   "cell_type": "code",
   "execution_count": 36,
   "metadata": {},
   "outputs": [
    {
     "name": "stdout",
     "output_type": "stream",
     "text": [
      "True\n",
      "{'scipy', 'numpy', 'scikit-learn'}\n",
      "{'scipy', 'numpy', 'scikit-learn'}\n"
     ]
    }
   ],
   "source": [
    "libs = {'numpy', 'scipy'} # Initialize dictionary\n",
    "print('numpy' in libs)   # Check if an element is in a set\n",
    "\n",
    "libs.add('scikit-learn') # Add element\n",
    "print(libs)\n",
    "\n",
    "libs.add('scikit-learn') # Add same element\n",
    "print(libs)"
   ]
  },
  {
   "cell_type": "markdown",
   "metadata": {},
   "source": [
    "### Dictionaries\n",
    "\n",
    "A dictionary maps keys to values. Consider the following example:"
   ]
  },
  {
   "cell_type": "code",
   "execution_count": 37,
   "metadata": {},
   "outputs": [
    {
     "name": "stdout",
     "output_type": "stream",
     "text": [
      "True\n",
      "006.3 WIT\n",
      "dict_keys(['Mining of massive datasets', 'Artificial Intelligence: A modern approach', 'Data mining: practical machine learning tools and techniques'])\n",
      "dict_values(['006.312 LES', '006.3 RUS', '006.3 WIT'])\n",
      "dict_items([('Mining of massive datasets', '006.312 LES'), ('Artificial Intelligence: A modern approach', '006.3 RUS'), ('Data mining: practical machine learning tools and techniques', '006.3 WIT')])\n",
      "Mining of massive datasets 006.312 LES\n",
      "Artificial Intelligence: A modern approach 006.3 RUS\n",
      "Data mining: practical machine learning tools and techniques 006.3 WIT\n"
     ]
    }
   ],
   "source": [
    "# Initialize dictionary\n",
    "books = {\n",
    "    'Mining of massive datasets': '006.312 LES',\n",
    "    'Artificial Intelligence: A modern approach': '006.3 RUS'\n",
    "}\n",
    "\n",
    "# Check if item is in dictionary\n",
    "print( 'Mining of massive datasets' in books)\n",
    "\n",
    "# Add new item\n",
    "books['Data mining: practical machine learning tools and techniques'] = '006.3 WIT'\n",
    "print(books['Data mining: practical machine learning tools and techniques'])\n",
    "\n",
    "# Print just the keys\n",
    "print(books.keys())\n",
    "\n",
    "# Print just the values\n",
    "print(books.values())\n",
    "\n",
    "# Print the items in the dictionary\n",
    "print(books.items())\n",
    "\n",
    "# Print dictionary pairs another way\n",
    "for key, value in books.items():\n",
    "    print (key, value)"
   ]
  },
  {
   "cell_type": "markdown",
   "metadata": {},
   "source": [
    "Create a dictionary and store into it your personal details (name, surname, address, etc). Change your address to \"Patision 76\" and print the dictionary."
   ]
  },
  {
   "cell_type": "code",
   "execution_count": 38,
   "metadata": {},
   "outputs": [],
   "source": [
    "#your code here\n"
   ]
  },
  {
   "cell_type": "markdown",
   "metadata": {},
   "source": [
    "## Iterators\n",
    "\n",
    "We can loop over the elements of a list or the keys of a dictionary using a for loop:"
   ]
  },
  {
   "cell_type": "code",
   "execution_count": 39,
   "metadata": {},
   "outputs": [
    {
     "name": "stdout",
     "output_type": "stream",
     "text": [
      "1\n",
      "2\n",
      "3\n",
      "4\n",
      "one\n",
      "two\n",
      "three\n",
      "0\n",
      "1\n",
      "2\n",
      "3\n",
      "\n",
      "1\n",
      "2\n",
      "3\n"
     ]
    }
   ],
   "source": [
    "l = [1,2,3,4]\n",
    "\n",
    "for i in l:\n",
    "    print(i)\n",
    "    \n",
    "d = {'one':1, 'two':2, 'three':3}\n",
    "\n",
    "for i in d:\n",
    "    print(i)\n",
    "    \n",
    "for i in range(4):\n",
    "    print(i)\n",
    "print()\n",
    "for i in range(1,4):\n",
    "    print(i)"
   ]
  },
  {
   "cell_type": "markdown",
   "metadata": {},
   "source": [
    "Create a list and add into it some animals. Iterate through the list using the `range` function and print its elements one at a time."
   ]
  },
  {
   "cell_type": "code",
   "execution_count": 40,
   "metadata": {},
   "outputs": [],
   "source": [
    "#your code here\n"
   ]
  },
  {
   "cell_type": "markdown",
   "metadata": {
    "collapsed": true
   },
   "source": [
    "## Numpy\n",
    "\n",
    "Numpy is the main package for scientific computing with Python. It provides a powerful $N$-dimensional array object, and sophisticated tools and functions for working with these arrays.\n",
    "\n",
    "Before using Numpy, you need to import the `numpy` package:"
   ]
  },
  {
   "cell_type": "code",
   "execution_count": 41,
   "metadata": {},
   "outputs": [],
   "source": [
    "import numpy as np"
   ]
  },
  {
   "cell_type": "markdown",
   "metadata": {},
   "source": [
    "### Arrays\n",
    "\n",
    "A Numpy array is a table of elements, all of the same type, indexed by a tuple of nonnegative integers. The number of axes (dimensions) is called the rank of the array. The shape of an array is a tuple of integers indicating the size of the array along each dimension. \n",
    "\n",
    "We can initialize Numpy arrays from nested Python lists, and access elements using square brackets. We next show how to create a $1$-dimensional array:"
   ]
  },
  {
   "cell_type": "code",
   "execution_count": 42,
   "metadata": {},
   "outputs": [
    {
     "name": "stdout",
     "output_type": "stream",
     "text": [
      "<class 'numpy.ndarray'>\n",
      "(3,)\n",
      "2\n",
      "[1 5 3]\n"
     ]
    }
   ],
   "source": [
    "A = np.array([1, 2, 3])  # Create a 1d array\n",
    "print(type(A))\n",
    "print(A.shape)\n",
    "print(A[1])\n",
    "A[1] = 5\n",
    "print(A)"
   ]
  },
  {
   "cell_type": "markdown",
   "metadata": {},
   "source": [
    "We can create $2$-dimensional arrays and we can access their elements as follows:"
   ]
  },
  {
   "cell_type": "code",
   "execution_count": 43,
   "metadata": {},
   "outputs": [
    {
     "name": "stdout",
     "output_type": "stream",
     "text": [
      "[[0 5 4]\n",
      " [2 8 6]]\n",
      "(2, 3)\n",
      "5\n"
     ]
    }
   ],
   "source": [
    "B = np.array([[0, 5, 4], [2,8,6]])   # Create a 2d array\n",
    "print(B)\n",
    "print(B.shape)\n",
    "print(B[0,1])"
   ]
  },
  {
   "cell_type": "markdown",
   "metadata": {},
   "source": [
    "There are also several functions for creating arrays."
   ]
  },
  {
   "cell_type": "code",
   "execution_count": 44,
   "metadata": {},
   "outputs": [
    {
     "name": "stdout",
     "output_type": "stream",
     "text": [
      "[[0. 0.]\n",
      " [0. 0.]\n",
      " [0. 0.]]\n"
     ]
    }
   ],
   "source": [
    "a = np.zeros((3,2))  # Create an array of all zeros\n",
    "print (a)"
   ]
  },
  {
   "cell_type": "code",
   "execution_count": 45,
   "metadata": {},
   "outputs": [
    {
     "name": "stdout",
     "output_type": "stream",
     "text": [
      "[[1. 1. 1.]\n",
      " [1. 1. 1.]]\n"
     ]
    }
   ],
   "source": [
    "b = np.ones((2,3))   # Create an array of all ones\n",
    "print(b)"
   ]
  },
  {
   "cell_type": "code",
   "execution_count": 46,
   "metadata": {},
   "outputs": [
    {
     "name": "stdout",
     "output_type": "stream",
     "text": [
      "[[1. 0.]\n",
      " [0. 1.]]\n"
     ]
    }
   ],
   "source": [
    "c = np.eye(2)        # Create a 2x2 identity matrix\n",
    "print(c)"
   ]
  },
  {
   "cell_type": "code",
   "execution_count": 47,
   "metadata": {},
   "outputs": [
    {
     "name": "stdout",
     "output_type": "stream",
     "text": [
      "[[0.04347719 0.75327254]\n",
      " [0.40476596 0.69602735]]\n"
     ]
    }
   ],
   "source": [
    "d = np.random.random((2,2)) # Create an array filled with random values\n",
    "print (d)"
   ]
  },
  {
   "cell_type": "markdown",
   "metadata": {},
   "source": [
    "Create a $3 \\times 2$ array and fill it with values of your preference. Then create a $4 \\times 3$ array of all $8$s."
   ]
  },
  {
   "cell_type": "code",
   "execution_count": 48,
   "metadata": {},
   "outputs": [],
   "source": [
    "#your code here\n"
   ]
  },
  {
   "cell_type": "markdown",
   "metadata": {},
   "source": [
    "### Array indexing\n",
    "\n",
    "Array indexing refers to any use of the square brackets to index array values. There are many options to indexing, which give Numpy indexing great power.\n",
    "\n",
    "Slicing is done in the same way as in lists. If an array is multidimensional, a slice for each dimension of the array is required. For example:"
   ]
  },
  {
   "cell_type": "code",
   "execution_count": 49,
   "metadata": {},
   "outputs": [
    {
     "name": "stdout",
     "output_type": "stream",
     "text": [
      "[[3 4]\n",
      " [7 8]]\n",
      "2\n",
      "[ 6  7  8  9 10 11 12]\n",
      "[ 6  7  8  9 10 11 12]\n"
     ]
    }
   ],
   "source": [
    "A = np.array([[1,2,3,4], [5,6,7,8], [9,10,11,12]])\n",
    "\n",
    "# Use slicing to pull out the subarray consisting of the first two rows and columns 2 and 3\n",
    "B = A[:2, 2:4]\n",
    "print(B)\n",
    "\n",
    "print (A[0, 1])\n",
    "\n",
    "bool_idx = (A > 5)  # Find the elements of A that are greater than 2\n",
    "\n",
    "# We use boolean array indexing to construct a 1d array consisting of the elements of a corresponding to the True values\n",
    "# of bool_idx\n",
    "print (A[bool_idx])\n",
    "\n",
    "# We can do all of the above with the following statement\n",
    "print (A[A > 5])"
   ]
  },
  {
   "cell_type": "markdown",
   "metadata": {},
   "source": [
    "### Array Math\n",
    "\n",
    "Basic mathematical functions operate elementwise on arrays, and are available both as operator overloads and as functions in the Numpy module. There are also functions to compute inner products of vectors, to multiply a vector by a matrix, and to multiply matrices. We give some examples below:"
   ]
  },
  {
   "cell_type": "code",
   "execution_count": 50,
   "metadata": {},
   "outputs": [
    {
     "name": "stdout",
     "output_type": "stream",
     "text": [
      "[[ 8 10]\n",
      " [12 14]\n",
      " [16 18]]\n",
      "[[ 8 10]\n",
      " [12 14]\n",
      " [16 18]] \n",
      "\n",
      "[[-6 -6]\n",
      " [-6 -6]\n",
      " [-6 -6]]\n",
      "[[-6 -6]\n",
      " [-6 -6]\n",
      " [-6 -6]] \n",
      "\n",
      "[[ 7 16]\n",
      " [27 40]\n",
      " [55 72]]\n",
      "[[ 7 16]\n",
      " [27 40]\n",
      " [55 72]] \n",
      "\n",
      "[[0.14285714 0.25      ]\n",
      " [0.33333333 0.4       ]\n",
      " [0.45454545 0.5       ]]\n",
      "[[0.14285714 0.25      ]\n",
      " [0.33333333 0.4       ]\n",
      " [0.45454545 0.5       ]] \n",
      "\n",
      "[[1.         1.41421356]\n",
      " [1.73205081 2.        ]\n",
      " [2.23606798 2.44948974]]\n"
     ]
    }
   ],
   "source": [
    "x = np.array([[1,2],[3,4],[5,6]])\n",
    "y = np.array([[7,8],[9,10],[11,12]])\n",
    "\n",
    "# Elementwise addition\n",
    "print(x + y)\n",
    "print(np.add(x, y),'\\n')\n",
    "\n",
    "# Elementwise substraction\n",
    "print(x - y)\n",
    "print(np.subtract(x, y),'\\n')\n",
    "\n",
    "# Elementwise product\n",
    "print(x * y)\n",
    "print(np.multiply(x, y),'\\n')\n",
    "\n",
    "# Elementwise division\n",
    "print(x / y)\n",
    "print(np.divide(x, y),'\\n')\n",
    "\n",
    "# Elementwise square root\n",
    "print(np.sqrt(x))"
   ]
  },
  {
   "cell_type": "code",
   "execution_count": 51,
   "metadata": {},
   "outputs": [
    {
     "name": "stdout",
     "output_type": "stream",
     "text": [
      "[[1 3 5]\n",
      " [2 4 6]]\n",
      "[[1 3 5]\n",
      " [2 4 6]]\n",
      "[[ 23  29  35]\n",
      " [ 53  67  81]\n",
      " [ 83 105 127]]\n",
      "[[ 23  29  35]\n",
      " [ 53  67  81]\n",
      " [ 83 105 127]]\n",
      "21\n",
      "[ 9 12]\n",
      "[ 3  7 11]\n"
     ]
    }
   ],
   "source": [
    "# Transpose of a matrix\n",
    "print(x.T)\n",
    "print(np.transpose(x))\n",
    "\n",
    "# Inner product of vectors, matrix-vector product, matrix-matrix product as follows\n",
    "print(x.dot(y.T))\n",
    "print(np.dot(x, y.T))\n",
    "            \n",
    "print(np.sum(x))  # Compute sum of all elements\n",
    "print(np.sum(x, axis=0))  # Compute sum of each column\n",
    "print(np.sum(x, axis=1))  # Compute sum of each row"
   ]
  },
  {
   "cell_type": "markdown",
   "metadata": {},
   "source": [
    "Create a $4 \\times 3$ array $A$ and a $3 \\times 2$ array $B$. Compute their matrix product $C$. Compute the inner products between the first column of $A$ and the second column of $C$, and the matrix product between the first two rows of $A$ and the matrix $BB^T$."
   ]
  },
  {
   "cell_type": "code",
   "execution_count": 52,
   "metadata": {},
   "outputs": [],
   "source": [
    "#your code here\n"
   ]
  },
  {
   "cell_type": "markdown",
   "metadata": {},
   "source": [
    "## Matplotlib\n",
    "\n",
    "Matplotlib is a python plotting library. It allows the user to generate plots, histograms, power spectra, bar charts, etc.\n",
    "\n",
    "We will next give some examples regarding the `matplotlib.pyplot`, a module which can be efficiently combined with Numpy.\n",
    "\n",
    "To use the module, we first need to import it:"
   ]
  },
  {
   "cell_type": "code",
   "execution_count": 53,
   "metadata": {},
   "outputs": [],
   "source": [
    "import matplotlib.pyplot as plt"
   ]
  },
  {
   "cell_type": "markdown",
   "metadata": {},
   "source": [
    "By running the following iPython command, the plots are displayed inline:"
   ]
  },
  {
   "cell_type": "code",
   "execution_count": 54,
   "metadata": {},
   "outputs": [],
   "source": [
    "%matplotlib inline"
   ]
  },
  {
   "cell_type": "markdown",
   "metadata": {},
   "source": [
    "We next show you how you can plot data in $2$ dimensions:"
   ]
  },
  {
   "cell_type": "code",
   "execution_count": 55,
   "metadata": {},
   "outputs": [
    {
     "data": {
      "text/plain": [
       "[<matplotlib.lines.Line2D at 0x192f8830a58>]"
      ]
     },
     "execution_count": 55,
     "metadata": {},
     "output_type": "execute_result"
    },
    {
     "data": {
      "image/png": "[encoded data removed]",
      "text/plain": [
       "<Figure size 432x288 with 1 Axes>"
      ]
     },
     "metadata": {},
     "output_type": "display_data"
    }
   ],
   "source": [
    "# Compute the x and y coordinates for points on a sine curve\n",
    "x = np.arange(0, 3 * np.pi, 0.1)\n",
    "y_sin = np.sin(x)\n",
    "\n",
    "# Plot the points using matplotlib\n",
    "plt.plot(x, y_sin)"
   ]
  },
  {
   "cell_type": "markdown",
   "metadata": {},
   "source": [
    "In the followinf example, we show you how you can plot more than one lines on the same figure and how to add a title, legend, and axis labels:"
   ]
  },
  {
   "cell_type": "code",
   "execution_count": 56,
   "metadata": {},
   "outputs": [
    {
     "data": {
      "text/plain": [
       "<matplotlib.legend.Legend at 0x192f88d1f28>"
      ]
     },
     "execution_count": 56,
     "metadata": {},
     "output_type": "execute_result"
    },
    {
     "data": {
      "image/png": "[encoded data removed]",
      "text/plain": [
       "<Figure size 432x288 with 1 Axes>"
      ]
     },
     "metadata": {},
     "output_type": "display_data"
    }
   ],
   "source": [
    "y_cos = np.cos(x)\n",
    "\n",
    "# Plot the points using matplotlib\n",
    "plt.plot(x, y_sin)\n",
    "plt.plot(x, y_cos)\n",
    "plt.xlabel('x axis label')\n",
    "plt.ylabel('y axis label')\n",
    "plt.title('Sine and Cosine')\n",
    "plt.legend(['Sine', 'Cosine'])"
   ]
  },
  {
   "cell_type": "markdown",
   "metadata": {},
   "source": [
    "Fianlly, we show how to make a scatter plot using `matplotlib`:"
   ]
  },
  {
   "cell_type": "code",
   "execution_count": 57,
   "metadata": {},
   "outputs": [
    {
     "data": {
      "text/plain": [
       "<matplotlib.collections.PathCollection at 0x192f67ddc18>"
      ]
     },
     "execution_count": 57,
     "metadata": {},
     "output_type": "execute_result"
    },
    {
     "data": {
      "image/png": "[encoded data removed]",
      "text/plain": [
       "<Figure size 432x288 with 1 Axes>"
      ]
     },
     "metadata": {},
     "output_type": "display_data"
    }
   ],
   "source": [
    "# Compute the x and y coordinates for randomly generated points\n",
    "x = np.linspace(-1, 1, 50)\n",
    "y = np.random.randn(50)\n",
    "\n",
    "plt.scatter(x,y)"
   ]
  },
  {
   "cell_type": "markdown",
   "metadata": {},
   "source": [
    "Compute the $x$ and $y$ coordinates for $50$ points on the line described by $f(x) = 2x + 4$. Plot the line and then make a scatter plot of the $50$ points."
   ]
  },
  {
   "cell_type": "code",
   "execution_count": 59,
   "metadata": {},
   "outputs": [],
   "source": [
    "#your code here\n"
   ]
  }
 ],
 "metadata": {
  "anaconda-cloud": {},
  "kernelspec": {
   "display_name": "Python 3",
   "language": "python",
   "name": "python3"
  },
  "language_info": {
   "codemirror_mode": {
    "name": "ipython",
    "version": 3
   },
   "file_extension": ".py",
   "mimetype": "text/x-python",
   "name": "python",
   "nbconvert_exporter": "python",
   "pygments_lexer": "ipython3",
   "version": "3.6.3"
  }
 },
 "nbformat": 4,
 "nbformat_minor": 1
}
