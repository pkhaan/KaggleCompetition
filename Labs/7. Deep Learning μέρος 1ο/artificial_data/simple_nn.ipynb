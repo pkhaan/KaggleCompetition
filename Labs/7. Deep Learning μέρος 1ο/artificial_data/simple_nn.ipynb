{
 "cells": [
  {
   "cell_type": "markdown",
   "metadata": {},
   "source": [
    "# Introduction to Deep Learning Using Keras\n",
    "\n",
    "[Keras](https://keras.io/) is a high-level API for deep learning. It is written in Python and can run on top of [Theano](http://deeplearning.net/software/theano/) or [TensorFlow](https://www.tensorflow.org/), two very popular libraries for neural networks in Python. It allows users to implement deep learning models very fast and with minimum effort. In the past years, the contribution of Keras to research in deep learning has been significant since it has allowed researchers to go from ideas to results with the least possible delay.\n",
    "\n",
    "\n",
    "\n",
    "In this part of the lab, we will implement a simple feedforward neural network to perform classification on a synthetic dataset. Your first objective is to create a toy dataset. The dataset will consist of 200 points in the 2-dimensional space (N = 200, d = 2). Each point will belong either to class 0 or to class 1. Each class will contain exactly 100 points. For class 0, points will be drawn from a Gaussian distribution with mean [1,1] and standard deviation 0.5. For class 1, points will be drawn from a Gaussian distribution with mean [-1,-1] and standard deviation 0.5. To generate these values make use of the [`randn`](http://docs.scipy.org/doc/numpy/reference/generated/numpy.random.randn.html) function of NumPy that returns a sample from the \"standard normal\" distribution as follows: \n",
    "\n",
    "```python\n",
    "sigma * np.random.randn(...) + mu\n",
    "```"
   ]
  },
  {
   "cell_type": "code",
   "execution_count": 1,
   "metadata": {},
   "outputs": [],
   "source": [
    "import numpy as np\n",
    "\n",
    "N = 200\n",
    "d = 2\n",
    "num_classes = 2\n",
    "\n",
    "X = np.zeros((N, d))\n",
    "y = np.zeros(N)\n",
    "\n",
    "\n",
    "#your code here"
   ]
  },
  {
   "cell_type": "markdown",
   "metadata": {},
   "source": [
    "After generating the 200 points, plot them in a 2-dimensional plane using [`scatter`](http://matplotlib.org/api/pyplot_api.html#matplotlib.pyplot.scatter). Use the same color for points belonging to the same class."
   ]
  },
  {
   "cell_type": "code",
   "execution_count": 2,
   "metadata": {},
   "outputs": [],
   "source": [
    "import matplotlib.pyplot as plt\n",
    "%matplotlib inline\n",
    "\n",
    "#your code here"
   ]
  },
  {
   "cell_type": "markdown",
   "metadata": {},
   "source": [
    "Then, split the dataset into a training and a test set using the [`train_test_split`](http://scikit-learn.org/stable/modules/generated/sklearn.model_selection.train_test_split.html) function of scikit-learn. Set the proportion of the dataset to be included in the test set to 0.2."
   ]
  },
  {
   "cell_type": "code",
   "execution_count": 3,
   "metadata": {},
   "outputs": [],
   "source": [
    "from sklearn.model_selection import train_test_split\n",
    "\n",
    "#your code here"
   ]
  },
  {
   "cell_type": "markdown",
   "metadata": {},
   "source": [
    "Now you will use Keras to implement a simple feedforward neural network. In Keras, of particular importance is the notion of a model. The model is the data structure upon which the neural network is built. The most common type of model is the Sequential model, which corresponds to a linear stack of layers. We next initialize a Sequential model."
   ]
  },
  {
   "cell_type": "code",
   "execution_count": 1,
   "metadata": {},
   "outputs": [
    {
     "name": "stderr",
     "output_type": "stream",
     "text": [
      "Using TensorFlow backend.\n"
     ]
    }
   ],
   "source": [
    "import keras\n",
    "from keras.models import Sequential\n",
    "\n",
    "model = Sequential()"
   ]
  },
  {
   "cell_type": "markdown",
   "metadata": {},
   "source": [
    "After creating a Sequence, we can add layers to it. In this example, we will add a hidden layer and the output layer. The hidden layer will consist of 64 hidden units and the output of each neuron will be activated by the [ReLU](https://en.wikipedia.org/wiki/Rectifier_(neural_networks) activation function. The output layer will contain 1 neuron which corresponds to the probability that an instance belongs to class 1 of our problem. \n",
    "Both these layers are fully-connected neural network layers and can be implemented using the [Dense](https://keras.io/layers/core/#dense) class of Keras."
   ]
  },
  {
   "cell_type": "code",
   "execution_count": null,
   "metadata": {
    "collapsed": true
   },
   "outputs": [],
   "source": [
    "from keras.layers import Dense\n",
    "\n",
    "#your code here"
   ]
  },
  {
   "cell_type": "markdown",
   "metadata": {},
   "source": [
    "After defining the model, we compile it to configure its learning process. More specifically, we can specify the loss function and the optimizer and its parameters."
   ]
  },
  {
   "cell_type": "code",
   "execution_count": null,
   "metadata": {
    "collapsed": true
   },
   "outputs": [],
   "source": [
    "model.compile(loss=keras.losses.binary_crossentropy, \n",
    "              optimizer=keras.optimizers.SGD(lr=0.01, momentum=0.9))"
   ]
  },
  {
   "cell_type": "markdown",
   "metadata": {},
   "source": [
    "Once compiled, we can train the model by iterating on the training data in batches."
   ]
  },
  {
   "cell_type": "code",
   "execution_count": null,
   "metadata": {},
   "outputs": [],
   "source": [
    "model.fit(X_train, y_train, epochs=5, batch_size=16)"
   ]
  },
  {
   "cell_type": "markdown",
   "metadata": {},
   "source": [
    "Once trained, we can use your model to generate predictions on new data. Predictions are real values between 0 and 1. Set predictions larger than 0.5 to 1 and predictions smaller than 0.5 to 0."
   ]
  },
  {
   "cell_type": "code",
   "execution_count": null,
   "metadata": {
    "collapsed": true
   },
   "outputs": [],
   "source": [
    "y_pred = model.predict(X_test, batch_size=16)\n",
    "\n",
    "#your code here"
   ]
  },
  {
   "cell_type": "markdown",
   "metadata": {},
   "source": [
    "Finally, we will calculate the accuracy of the model by comparing the predictions against the ground truth class labels. Use the [`accuracy_score`](http://scikit-learn.org/stable/modules/generated/sklearn.metrics.accuracy_score.html) function of scikit-learn to compute the accuracy."
   ]
  },
  {
   "cell_type": "code",
   "execution_count": null,
   "metadata": {},
   "outputs": [],
   "source": [
    "from sklearn.metrics import accuracy_score\n",
    "\n",
    "#your code here"
   ]
  },
  {
   "cell_type": "markdown",
   "metadata": {},
   "source": [
    "Increase the standard deviation of the Gaussian distribution from which the datapoints are drawn. How does that affect the performance of the feedforward neural network?"
   ]
  }
 ],
 "metadata": {
  "kernelspec": {
   "display_name": "Python 3",
   "language": "python",
   "name": "python3"
  },
  "language_info": {
   "codemirror_mode": {
    "name": "ipython",
    "version": 3
   },
   "file_extension": ".py",
   "mimetype": "text/x-python",
   "name": "python",
   "nbconvert_exporter": "python",
   "pygments_lexer": "ipython3",
   "version": "3.6.3"
  }
 },
 "nbformat": 4,
 "nbformat_minor": 2
}
