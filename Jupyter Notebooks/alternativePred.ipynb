{
 "cells": [
  {
   "cell_type": "code",
   "execution_count": 1,
   "id": "d6f7d832",
   "metadata": {},
   "outputs": [],
   "source": [
    "import networkx as nx\n",
    "import random\n",
    "import math\n",
    "import csv\n",
    "import datetime\n",
    "from sklearn import svm\n",
    "from sklearn.tree import DecisionTreeClassifier\n",
    "from sklearn.metrics import accuracy_score\n",
    "from sklearn.metrics import f1_score\n",
    "import multiprocessing as mp\n",
    "from sklearn import svm\n",
    "from sklearn.tree import DecisionTreeClassifier\n",
    "from sklearn.metrics import accuracy_score\n",
    "from sklearn.preprocessing import normalize\n",
    "import numpy as np\n",
    "from sklearn import linear_model\n",
    "from sklearn.metrics import log_loss\n",
    "from sklearn.neural_network import MLPClassifier\n",
    "from sklearn.preprocessing import StandardScaler  \n",
    "from sklearn.linear_model import LogisticRegression"
   ]
  },
  {
   "cell_type": "code",
   "execution_count": 2,
   "id": "08eed710",
   "metadata": {},
   "outputs": [],
   "source": [
    "def CommonNeighbors(u, v, g):\n",
    "    u_neighbors = set(g.neighbors(u))\n",
    "    v_neighbors = set(g.neighbors(v))\n",
    "    return len(u_neighbors.intersection(v_neighbors))\n",
    "def common_neighbors(g, edges):\n",
    "    result = []\n",
    "    for edge in edges:\n",
    "        node_one, node_two = edge[0], edge[1]\n",
    "        num_common_neighbors = 0\n",
    "        try:\n",
    "            neighbors_one, neighbors_two = g.neighbors(node_one), g.neighbors(node_two)\n",
    "            for neighbor in neighbors_one:\n",
    "                if neighbor in neighbors_two:\n",
    "                    num_common_neighbors += 1\n",
    "            result.append((node_one, node_two, num_common_neighbors))\n",
    "        except:\n",
    "            pass\n",
    "    return result"
   ]
  },
  {
   "cell_type": "code",
   "execution_count": 3,
   "id": "1427ec25",
   "metadata": {},
   "outputs": [],
   "source": [
    "def AdamicAdar(u, v, g):\n",
    "    u_neighbors = set(g.neighbors(u))\n",
    "    v_neighbors = set(g.neighbors(v))\n",
    "    aa = 0\n",
    "    for i in u_neighbors.intersection(v_neighbors):\n",
    "        aa += 1 / math.log(len(g.neighbors(i)))\n",
    "    return aa"
   ]
  },
  {
   "cell_type": "code",
   "execution_count": 4,
   "id": "2372bc2b",
   "metadata": {},
   "outputs": [],
   "source": [
    "def ResourceAllocation(u, v, g):\n",
    "    u_neighbors = set(g.neighbors(u))\n",
    "    v_neighbors = set(g.neighbors(v))\n",
    "    ra = 0\n",
    "    for i in u_neighbors.intersection(v_neighbors):\n",
    "        ra += 1 / float(len(g.neighbors(i)))\n",
    "    return ra"
   ]
  },
  {
   "cell_type": "code",
   "execution_count": 5,
   "id": "10bef4d7",
   "metadata": {},
   "outputs": [],
   "source": [
    "def JaccardCoefficent(u, v, g):\n",
    "    u_neighbors = set(g.neighbors(u))\n",
    "    v_neighbors = set(g.neighbors(v))\n",
    "    return len(u_neighbors.intersection(v_neighbors)) / float(len(u_neighbors.union(v_neighbors)))"
   ]
  },
  {
   "cell_type": "code",
   "execution_count": 6,
   "id": "98644e71",
   "metadata": {},
   "outputs": [],
   "source": [
    "def AllFeatures(u,v,g1, g2):\n",
    "    '''\n",
    "    the change of features in two consecutive sub graphs\n",
    "    '''\n",
    "    try:\n",
    "        cn = CommonNeighbors(u, v, g2)\n",
    "        aa = AdamicAdar(u, v, g2)\n",
    "        ra = ResourceAllocation(u, v, g2)\n",
    "        jc = JaccardCoefficent(u, v, g2)\n",
    "        pa = PreferentialAttachment(u, v, g2)\n",
    "\n",
    "        delta_cn = cn - CommonNeighbors(u, v, g1)\n",
    "        delta_aa = aa - AdamicAdar(u, v, g1)\n",
    "        delta_ra = ra - ResourceAllocation(u, v, g1)\n",
    "        delta_jc = jc - JaccardCoefficent(u, v, g1)\n",
    "        delta_pa = pa - PreferentialAttachment(u, v, g1)\n",
    "        return {\"cn\":cn, \"aa\": aa, \"ra\":ra, \"jc\":jc, \"pa\":pa,\n",
    "            \"delta_cn\": delta_cn, \"delta_aa\": delta_aa, \"delta_ra\": delta_ra,\n",
    "             \"delta_jc\": delta_jc, \"delta_pa\": delta_pa}\n",
    "    except:\n",
    "        pass"
   ]
  },
  {
   "cell_type": "code",
   "execution_count": 7,
   "id": "852b168a",
   "metadata": {},
   "outputs": [],
   "source": [
    "feature_set = [common_neighbors,\n",
    "                   nx.resource_allocation_index,\n",
    "                   nx.jaccard_coefficient,\n",
    "                   nx.adamic_adar_index,\n",
    "                   nx.preferential_attachment\n",
    "                   ]"
   ]
  },
  {
   "cell_type": "code",
   "execution_count": 8,
   "id": "3af2ac59",
   "metadata": {},
   "outputs": [],
   "source": [
    "def produce_fake_edge(g, neg_g,num_test_edges):\n",
    "    i = 0\n",
    "    while i < num_test_edges:\n",
    "        edge = random.sample(g.nodes(), 2)\n",
    "        try:\n",
    "            shortest_path = nx.shortest_path_length(g,source=edge[0],target=edge[1])\n",
    "            if shortest_path >= 2:\n",
    "                neg_g.add_edge(edge[0],edge[1], positive=\"False\")\n",
    "                i += 1\n",
    "        except:\n",
    "            pass"
   ]
  },
  {
   "cell_type": "code",
   "execution_count": 9,
   "id": "f67651c3",
   "metadata": {},
   "outputs": [],
   "source": [
    "def create_graph_from_file(filename):\n",
    "    print(\"----------------build graph--------------------\")\n",
    "    f = open(filename, \"rb\")\n",
    "    g = nx.read_edgelist(f)\n",
    "    return g"
   ]
  },
  {
   "cell_type": "code",
   "execution_count": 10,
   "id": "2f25da55",
   "metadata": {},
   "outputs": [],
   "source": [
    "def sample_extraction(g, pos_num, neg_num, neg_mode, neg_distance=2, delete=1):\n",
    "    \"\"\"\n",
    "\n",
    "    :param g:  the graph\n",
    "    :param pos_num: the number of positive samples\n",
    "    :param neg_num: the number of negative samples\n",
    "    :param neg_distance: the distance between two nodes in negative samples\n",
    "    :param delete: if delete ==0, don't delete positive edges from graph\n",
    "    :return: pos_sample is a list of positive edges, neg_sample is a list of negative edges\n",
    "    \"\"\"\n",
    "\n",
    "    print(\"----------------extract positive samples--------------------\")\n",
    "    # randomly select pos_num as test edges\n",
    "    pos_sample = random.sample(g.edges(), pos_num)\n",
    "    sample_g = nx.Graph()\n",
    "    sample_g.add_edges_from(pos_sample, positive=\"True\")\n",
    "    nx.write_edgelist(sample_g, \"sample_positive_\" +str(pos_num)+ \".txt\", data=['positive'])\n",
    "\n",
    "    # adding non-existing edges\n",
    "    print(\"----------------extract negative samples--------------------\")\n",
    "    i = 0\n",
    "    neg_g = nx.Graph()\n",
    "    produce_fake_edge(g,neg_g,neg_num)\n",
    "    nx.write_edgelist(neg_g, \"sample_negative_\" +str(neg_num)+ \".txt\", data=[\"positive\"])\n",
    "    neg_sample = neg_g.edges()\n",
    "    neg_g.add_edges_from(pos_sample,positive=\"True\")\n",
    "    nx.write_edgelist(neg_g, \"sample_combine_\" +str(pos_num + neg_num)+ \".txt\", data=[\"positive\"])\n",
    "\n",
    "    # remove the positive sample edges, the rest is the training set\n",
    "    if delete == 0:\n",
    "        return pos_sample, neg_sample\n",
    "    else:\n",
    "        g.remove_edges_from(pos_sample)\n",
    "        nx.write_edgelist(g, \"training.txt\", data=False)\n",
    "\n",
    "        return pos_sample, neg_sample"
   ]
  },
  {
   "cell_type": "code",
   "execution_count": 10,
   "id": "e79eac56",
   "metadata": {},
   "outputs": [],
   "source": [
    "def feature_extraction(g, pos_sample, neg_sample, feature_name, model=\"single\", combine_num=5):\n",
    "\n",
    "    data = []\n",
    "    if model == \"single\":\n",
    "        print (\"-----extract feature:\", feature_name.__name__, \"----------\")\n",
    "        preds = feature_name(g, pos_sample)\n",
    "        feature = [feature_name.__name__] + [i[2] for i in preds]\n",
    "        label = [\"label\"] + [\"Pos\" for i in range(len(feature))]\n",
    "        preds = feature_name(g, neg_sample)\n",
    "        feature1 = [i[2] for i in preds]\n",
    "        feature = feature + feature1\n",
    "        label = label + [\"Neg\" for i in range(len(feature1))]\n",
    "        data = [feature, label]\n",
    "        data = transpose(data)\n",
    "        print(\"----------write the feature to file---------------\")\n",
    "        write_data_to_file(data, \"features_\" + model + \"_\" + feature_name.__name__ + \".csv\")\n",
    "    else:\n",
    "        label = [\"label\"] + [\"1\" for i in range(len(pos_sample))] + [\"0\" for i in range(len(neg_sample))]\n",
    "        for j in feature_name:\n",
    "            print (\"-----extract feature:\", j.__name__, \"----------\")\n",
    "            preds = j(g, pos_sample)\n",
    "\n",
    "            feature = [j.__name__] + [i[2] for i in preds]\n",
    "            preds = j(g, neg_sample)\n",
    "            feature = feature + [i[2] for i in preds]\n",
    "            data.append(feature)\n",
    "\n",
    "        data.append(label)\n",
    "        data = transpose(data)\n",
    "        print(\"----------write the features to file---------------\")\n",
    "        write_data_to_file(data, \"features_\" + model + \"_\" + str(combine_num) + \".csv\")\n",
    "    return data\n",
    "\n",
    "\n",
    "def write_data_to_file(data, filename):\n",
    "    csvfile = open(filename, \"w\")\n",
    "    writer = csv.writer(csvfile)\n",
    "    for i in data:\n",
    "        writer.writerow(i)\n",
    "    csvfile.close()\n",
    "\n",
    "\n",
    "def transpose(data):\n",
    "    return [list(i) for i in zip(*data)]"
   ]
  },
  {
   "cell_type": "code",
   "execution_count": 14,
   "id": "762d4e2e",
   "metadata": {},
   "outputs": [],
   "source": [
    "def main(filename=\"\", pos_num=0.1, neg_num=0.1, model=\"combined\", combine_num=1,\n",
    "         feature_name=common_neighbors, neg_mode=\"hard\"):\n",
    "    if combine_num==2:\n",
    "        pos_num=0.008;\n",
    "        neg_num=0.008;\n",
    "    g = create_graph_from_file(filename)\n",
    "    num_edges = g.number_of_edges()\n",
    "    pos_num = int(num_edges * pos_num)\n",
    "    neg_num = int(num_edges * neg_num)\n",
    "    pos_sample, neg_sample = sample_extraction(g, pos_num, neg_num,neg_mode)\n",
    "    train_data = feature_extraction(g, pos_sample, neg_sample, feature_name, model, combine_num)"
   ]
  },
  {
   "cell_type": "code",
   "execution_count": 12,
   "id": "4a2a3c75",
   "metadata": {},
   "outputs": [],
   "source": [
    "\n",
    "\n",
    "#______________________Entry Point________________________\n",
    "#Fn: Name of data set you want to run this code for, and cn is a integer for that dataset(any integer will work but different for each dataset)\n",
    "#By default it is set to Twitter Data Set\n",
    "#The project was run using Facebook and Twitter dataset but it works with any social network dataset from http://snap.stanford.edu/data/\n",
    "#Following Scoring Methods are used to construct feature Set----\n",
    "#common_neighbors,resource_allocation_index, jaccard_coefficient, adamic_adar_index, preferential_attachment\n",
    "#SVM ANN and Logistic Regresssion is used for classificaion\n",
    "fn=\"data\\\\abstracts.txt\";\n",
    "cn=2;\n",
    "\n"
   ]
  },
  {
   "cell_type": "code",
   "execution_count": 13,
   "id": "dd6bc0a9",
   "metadata": {},
   "outputs": [
    {
     "name": "stdout",
     "output_type": "stream",
     "text": [
      "----------------build graph--------------------\n"
     ]
    },
    {
     "ename": "TypeError",
     "evalue": "Failed to convert edge data (['of', 'an', 'automated', 'system', 'for', 'the', 'quality', 'assessment', 'of', 'aerodrome', 'ground', 'lighting', '(AGL),', 'in', 'accordance', 'with', 'associated', 'standards', 'and', 'recommendations,', 'is', 'presented.', 'The', 'system', 'is', 'composed', 'of', 'an', 'image', 'sensor,', 'placed', 'inside', 'the', 'cockpit', 'of', 'an', 'aircraft', 'to', 'record', 'images', 'of', 'the', 'AGL', 'during', 'a', 'normal', 'descent', 'to', 'an', 'aerodrome.', 'A', 'model-based', 'methodology', 'is', 'used', 'to', 'ascertain', 'the', 'optimum', 'match', 'between', 'a', 'template', 'of', 'the', 'AGL', 'and', 'the', 'actual', 'image', 'data', 'in', 'order', 'to', 'calculate', 'the', 'position', 'and', 'orientation', 'of', 'the', 'camera', 'at', 'the', 'instant', 'the', 'image', 'was', 'acquired.', 'The', 'camera', 'position', 'and', 'orientation', 'data', 'are', 'used', 'along', 'with', 'the', 'pixel', 'grey', 'level', 'for', 'each', 'imaged', 'luminaire,', 'to', 'estimate', 'a', 'value', 'for', 'the', 'luminous', 'intensity', 'of', 'a', 'given', 'luminaire.', 'This', 'can', 'then', 'be', 'compared', 'with', 'the', 'expected', 'brightness', 'for', 'that', 'luminaire', 'to', 'ensure', 'it', 'is', 'operating', 'to', 'the', 'required', 'standards.', 'As', 'such,', 'a', 'metric', 'for', 'the', 'quality', 'of', 'the', 'AGL', 'pattern', 'is', 'determined.', 'Experiments', 'on', 'real', 'image', 'data', 'is', 'presented', 'to', 'demonstrate', 'the', 'application', 'and', 'effectiveness', 'of', 'the', 'system.']) to dictionary.",
     "output_type": "error",
     "traceback": [
      "\u001b[1;31m---------------------------------------------------------------------------\u001b[0m",
      "\u001b[1;31mSyntaxError\u001b[0m                               Traceback (most recent call last)",
      "File \u001b[1;32m~\\AppData\\Local\\Packages\\PythonSoftwareFoundation.Python.3.10_qbz5n2kfra8p0\\LocalCache\\local-packages\\Python310\\site-packages\\networkx\\readwrite\\edgelist.py:272\u001b[0m, in \u001b[0;36mparse_edgelist\u001b[1;34m(lines, comments, delimiter, create_using, nodetype, data)\u001b[0m\n\u001b[0;32m    <a href='file:///c%3A/Users/peter/AppData/Local/Packages/PythonSoftwareFoundation.Python.3.10_qbz5n2kfra8p0/LocalCache/local-packages/Python310/site-packages/networkx/readwrite/edgelist.py?line=270'>271</a>\u001b[0m         edgedata_str \u001b[39m=\u001b[39m \u001b[39m\"\u001b[39m\u001b[39m \u001b[39m\u001b[39m\"\u001b[39m\u001b[39m.\u001b[39mjoin(d)\n\u001b[1;32m--> <a href='file:///c%3A/Users/peter/AppData/Local/Packages/PythonSoftwareFoundation.Python.3.10_qbz5n2kfra8p0/LocalCache/local-packages/Python310/site-packages/networkx/readwrite/edgelist.py?line=271'>272</a>\u001b[0m     edgedata \u001b[39m=\u001b[39m \u001b[39mdict\u001b[39m(literal_eval(edgedata_str\u001b[39m.\u001b[39;49mstrip()))\n\u001b[0;32m    <a href='file:///c%3A/Users/peter/AppData/Local/Packages/PythonSoftwareFoundation.Python.3.10_qbz5n2kfra8p0/LocalCache/local-packages/Python310/site-packages/networkx/readwrite/edgelist.py?line=272'>273</a>\u001b[0m \u001b[39mexcept\u001b[39;00m \u001b[39mException\u001b[39;00m \u001b[39mas\u001b[39;00m e:\n",
      "File \u001b[1;32mC:\\Program Files\\WindowsApps\\PythonSoftwareFoundation.Python.3.10_3.10.1264.0_x64__qbz5n2kfra8p0\\lib\\ast.py:62\u001b[0m, in \u001b[0;36mliteral_eval\u001b[1;34m(node_or_string)\u001b[0m\n\u001b[0;32m     <a href='file:///c%3A/Program%20Files/WindowsApps/PythonSoftwareFoundation.Python.3.10_3.10.1264.0_x64__qbz5n2kfra8p0/lib/ast.py?line=60'>61</a>\u001b[0m \u001b[39mif\u001b[39;00m \u001b[39misinstance\u001b[39m(node_or_string, \u001b[39mstr\u001b[39m):\n\u001b[1;32m---> <a href='file:///c%3A/Program%20Files/WindowsApps/PythonSoftwareFoundation.Python.3.10_3.10.1264.0_x64__qbz5n2kfra8p0/lib/ast.py?line=61'>62</a>\u001b[0m     node_or_string \u001b[39m=\u001b[39m parse(node_or_string\u001b[39m.\u001b[39;49mlstrip(\u001b[39m\"\u001b[39;49m\u001b[39m \u001b[39;49m\u001b[39m\\t\u001b[39;49;00m\u001b[39m\"\u001b[39;49m), mode\u001b[39m=\u001b[39;49m\u001b[39m'\u001b[39;49m\u001b[39meval\u001b[39;49m\u001b[39m'\u001b[39;49m)\n\u001b[0;32m     <a href='file:///c%3A/Program%20Files/WindowsApps/PythonSoftwareFoundation.Python.3.10_3.10.1264.0_x64__qbz5n2kfra8p0/lib/ast.py?line=62'>63</a>\u001b[0m \u001b[39mif\u001b[39;00m \u001b[39misinstance\u001b[39m(node_or_string, Expression):\n",
      "File \u001b[1;32mC:\\Program Files\\WindowsApps\\PythonSoftwareFoundation.Python.3.10_3.10.1264.0_x64__qbz5n2kfra8p0\\lib\\ast.py:50\u001b[0m, in \u001b[0;36mparse\u001b[1;34m(source, filename, mode, type_comments, feature_version)\u001b[0m\n\u001b[0;32m     <a href='file:///c%3A/Program%20Files/WindowsApps/PythonSoftwareFoundation.Python.3.10_3.10.1264.0_x64__qbz5n2kfra8p0/lib/ast.py?line=48'>49</a>\u001b[0m \u001b[39m# Else it should be an int giving the minor version for 3.x.\u001b[39;00m\n\u001b[1;32m---> <a href='file:///c%3A/Program%20Files/WindowsApps/PythonSoftwareFoundation.Python.3.10_3.10.1264.0_x64__qbz5n2kfra8p0/lib/ast.py?line=49'>50</a>\u001b[0m \u001b[39mreturn\u001b[39;00m \u001b[39mcompile\u001b[39;49m(source, filename, mode, flags,\n\u001b[0;32m     <a href='file:///c%3A/Program%20Files/WindowsApps/PythonSoftwareFoundation.Python.3.10_3.10.1264.0_x64__qbz5n2kfra8p0/lib/ast.py?line=50'>51</a>\u001b[0m                _feature_version\u001b[39m=\u001b[39;49mfeature_version)\n",
      "\u001b[1;31mSyntaxError\u001b[0m: invalid syntax (<unknown>, line 1)",
      "\nThe above exception was the direct cause of the following exception:\n",
      "\u001b[1;31mTypeError\u001b[0m                                 Traceback (most recent call last)",
      "\u001b[1;32mc:\\Users\\peter\\Desktop\\GitHub\\KaggleCompetition\\alternativePred.ipynb Cell 14'\u001b[0m in \u001b[0;36m<cell line: 2>\u001b[1;34m()\u001b[0m\n\u001b[0;32m      <a href='vscode-notebook-cell:/c%3A/Users/peter/Desktop/GitHub/KaggleCompetition/alternativePred.ipynb#ch0000013?line=0'>1</a>\u001b[0m \u001b[39m#Run this line to generate feature Set\u001b[39;00m\n\u001b[1;32m----> <a href='vscode-notebook-cell:/c%3A/Users/peter/Desktop/GitHub/KaggleCompetition/alternativePred.ipynb#ch0000013?line=1'>2</a>\u001b[0m main(filename\u001b[39m=\u001b[39;49mfn,model\u001b[39m=\u001b[39;49m\u001b[39m\"\u001b[39;49m\u001b[39mcombined\u001b[39;49m\u001b[39m\"\u001b[39;49m,combine_num\u001b[39m=\u001b[39;49mcn, feature_name\u001b[39m=\u001b[39;49mfeature_set, neg_mode\u001b[39m=\u001b[39;49m\u001b[39m\"\u001b[39;49m\u001b[39measy\u001b[39;49m\u001b[39m\"\u001b[39;49m)\n",
      "\u001b[1;32mc:\\Users\\peter\\Desktop\\GitHub\\KaggleCompetition\\alternativePred.ipynb Cell 12'\u001b[0m in \u001b[0;36mmain\u001b[1;34m(filename, pos_num, neg_num, model, combine_num, feature_name, neg_mode)\u001b[0m\n\u001b[0;32m      <a href='vscode-notebook-cell:/c%3A/Users/peter/Desktop/GitHub/KaggleCompetition/alternativePred.ipynb#ch0000011?line=3'>4</a>\u001b[0m     pos_num\u001b[39m=\u001b[39m\u001b[39m0.008\u001b[39m;\n\u001b[0;32m      <a href='vscode-notebook-cell:/c%3A/Users/peter/Desktop/GitHub/KaggleCompetition/alternativePred.ipynb#ch0000011?line=4'>5</a>\u001b[0m     neg_num\u001b[39m=\u001b[39m\u001b[39m0.008\u001b[39m;\n\u001b[1;32m----> <a href='vscode-notebook-cell:/c%3A/Users/peter/Desktop/GitHub/KaggleCompetition/alternativePred.ipynb#ch0000011?line=5'>6</a>\u001b[0m g \u001b[39m=\u001b[39m create_graph_from_file(filename)\n\u001b[0;32m      <a href='vscode-notebook-cell:/c%3A/Users/peter/Desktop/GitHub/KaggleCompetition/alternativePred.ipynb#ch0000011?line=6'>7</a>\u001b[0m num_edges \u001b[39m=\u001b[39m g\u001b[39m.\u001b[39mnumber_of_edges()\n\u001b[0;32m      <a href='vscode-notebook-cell:/c%3A/Users/peter/Desktop/GitHub/KaggleCompetition/alternativePred.ipynb#ch0000011?line=7'>8</a>\u001b[0m pos_num \u001b[39m=\u001b[39m \u001b[39mint\u001b[39m(num_edges \u001b[39m*\u001b[39m pos_num)\n",
      "\u001b[1;32mc:\\Users\\peter\\Desktop\\GitHub\\KaggleCompetition\\alternativePred.ipynb Cell 9'\u001b[0m in \u001b[0;36mcreate_graph_from_file\u001b[1;34m(filename)\u001b[0m\n\u001b[0;32m      <a href='vscode-notebook-cell:/c%3A/Users/peter/Desktop/GitHub/KaggleCompetition/alternativePred.ipynb#ch0000008?line=1'>2</a>\u001b[0m \u001b[39mprint\u001b[39m(\u001b[39m\"\u001b[39m\u001b[39m----------------build graph--------------------\u001b[39m\u001b[39m\"\u001b[39m)\n\u001b[0;32m      <a href='vscode-notebook-cell:/c%3A/Users/peter/Desktop/GitHub/KaggleCompetition/alternativePred.ipynb#ch0000008?line=2'>3</a>\u001b[0m f \u001b[39m=\u001b[39m \u001b[39mopen\u001b[39m(filename, \u001b[39m\"\u001b[39m\u001b[39mrb\u001b[39m\u001b[39m\"\u001b[39m)\n\u001b[1;32m----> <a href='vscode-notebook-cell:/c%3A/Users/peter/Desktop/GitHub/KaggleCompetition/alternativePred.ipynb#ch0000008?line=3'>4</a>\u001b[0m g \u001b[39m=\u001b[39m nx\u001b[39m.\u001b[39;49mread_edgelist(f)\n\u001b[0;32m      <a href='vscode-notebook-cell:/c%3A/Users/peter/Desktop/GitHub/KaggleCompetition/alternativePred.ipynb#ch0000008?line=4'>5</a>\u001b[0m \u001b[39mreturn\u001b[39;00m g\n",
      "File \u001b[1;32m~\\AppData\\Local\\Packages\\PythonSoftwareFoundation.Python.3.10_qbz5n2kfra8p0\\LocalCache\\local-packages\\Python310\\site-packages\\networkx\\utils\\decorators.py:795\u001b[0m, in \u001b[0;36margmap.__call__.<locals>.func\u001b[1;34m(_argmap__wrapper, *args, **kwargs)\u001b[0m\n\u001b[0;32m    <a href='file:///c%3A/Users/peter/AppData/Local/Packages/PythonSoftwareFoundation.Python.3.10_qbz5n2kfra8p0/LocalCache/local-packages/Python310/site-packages/networkx/utils/decorators.py?line=793'>794</a>\u001b[0m \u001b[39mdef\u001b[39;00m \u001b[39mfunc\u001b[39m(\u001b[39m*\u001b[39margs, __wrapper\u001b[39m=\u001b[39m\u001b[39mNone\u001b[39;00m, \u001b[39m*\u001b[39m\u001b[39m*\u001b[39mkwargs):\n\u001b[1;32m--> <a href='file:///c%3A/Users/peter/AppData/Local/Packages/PythonSoftwareFoundation.Python.3.10_qbz5n2kfra8p0/LocalCache/local-packages/Python310/site-packages/networkx/utils/decorators.py?line=794'>795</a>\u001b[0m     \u001b[39mreturn\u001b[39;00m argmap\u001b[39m.\u001b[39m_lazy_compile(__wrapper)(\u001b[39m*\u001b[39margs, \u001b[39m*\u001b[39m\u001b[39m*\u001b[39mkwargs)\n",
      "File \u001b[1;32m<class 'networkx.utils.decorators.argmap'> compilation 5:5\u001b[0m, in \u001b[0;36margmap_read_edgelist_1\u001b[1;34m(path, comments, delimiter, create_using, nodetype, data, edgetype, encoding)\u001b[0m\n\u001b[0;32m      <a href='file:///%3Cclass%20%27networkx.utils.decorators.argmap%27%3E%20compilation%205?line=2'>3</a>\u001b[0m \u001b[39mfrom\u001b[39;00m \u001b[39mcontextlib\u001b[39;00m \u001b[39mimport\u001b[39;00m contextmanager\n\u001b[0;32m      <a href='file:///%3Cclass%20%27networkx.utils.decorators.argmap%27%3E%20compilation%205?line=3'>4</a>\u001b[0m \u001b[39mfrom\u001b[39;00m \u001b[39mpathlib\u001b[39;00m \u001b[39mimport\u001b[39;00m Path\n\u001b[1;32m----> <a href='file:///%3Cclass%20%27networkx.utils.decorators.argmap%27%3E%20compilation%205?line=4'>5</a>\u001b[0m \u001b[39mimport\u001b[39;00m \u001b[39mwarnings\u001b[39;00m\n\u001b[0;32m      <a href='file:///%3Cclass%20%27networkx.utils.decorators.argmap%27%3E%20compilation%205?line=6'>7</a>\u001b[0m \u001b[39mimport\u001b[39;00m \u001b[39mnetworkx\u001b[39;00m \u001b[39mas\u001b[39;00m \u001b[39mnx\u001b[39;00m\n\u001b[0;32m      <a href='file:///%3Cclass%20%27networkx.utils.decorators.argmap%27%3E%20compilation%205?line=7'>8</a>\u001b[0m \u001b[39mfrom\u001b[39;00m \u001b[39mnetworkx\u001b[39;00m\u001b[39m.\u001b[39;00m\u001b[39mutils\u001b[39;00m \u001b[39mimport\u001b[39;00m create_random_state, create_py_random_state\n",
      "File \u001b[1;32m~\\AppData\\Local\\Packages\\PythonSoftwareFoundation.Python.3.10_qbz5n2kfra8p0\\LocalCache\\local-packages\\Python310\\site-packages\\networkx\\readwrite\\edgelist.py:373\u001b[0m, in \u001b[0;36mread_edgelist\u001b[1;34m(path, comments, delimiter, create_using, nodetype, data, edgetype, encoding)\u001b[0m\n\u001b[0;32m    <a href='file:///c%3A/Users/peter/AppData/Local/Packages/PythonSoftwareFoundation.Python.3.10_qbz5n2kfra8p0/LocalCache/local-packages/Python310/site-packages/networkx/readwrite/edgelist.py?line=307'>308</a>\u001b[0m \u001b[39m\"\"\"Read a graph from a list of edges.\u001b[39;00m\n\u001b[0;32m    <a href='file:///c%3A/Users/peter/AppData/Local/Packages/PythonSoftwareFoundation.Python.3.10_qbz5n2kfra8p0/LocalCache/local-packages/Python310/site-packages/networkx/readwrite/edgelist.py?line=308'>309</a>\u001b[0m \n\u001b[0;32m    <a href='file:///c%3A/Users/peter/AppData/Local/Packages/PythonSoftwareFoundation.Python.3.10_qbz5n2kfra8p0/LocalCache/local-packages/Python310/site-packages/networkx/readwrite/edgelist.py?line=309'>310</a>\u001b[0m \u001b[39mParameters\u001b[39;00m\n\u001b[1;32m   (...)\u001b[0m\n\u001b[0;32m    <a href='file:///c%3A/Users/peter/AppData/Local/Packages/PythonSoftwareFoundation.Python.3.10_qbz5n2kfra8p0/LocalCache/local-packages/Python310/site-packages/networkx/readwrite/edgelist.py?line=369'>370</a>\u001b[0m \u001b[39mtypes (e.g. int, float, str, frozenset - or tuples of those, etc.)\u001b[39;00m\n\u001b[0;32m    <a href='file:///c%3A/Users/peter/AppData/Local/Packages/PythonSoftwareFoundation.Python.3.10_qbz5n2kfra8p0/LocalCache/local-packages/Python310/site-packages/networkx/readwrite/edgelist.py?line=370'>371</a>\u001b[0m \u001b[39m\"\"\"\u001b[39;00m\n\u001b[0;32m    <a href='file:///c%3A/Users/peter/AppData/Local/Packages/PythonSoftwareFoundation.Python.3.10_qbz5n2kfra8p0/LocalCache/local-packages/Python310/site-packages/networkx/readwrite/edgelist.py?line=371'>372</a>\u001b[0m lines \u001b[39m=\u001b[39m (line \u001b[39mif\u001b[39;00m \u001b[39misinstance\u001b[39m(line, \u001b[39mstr\u001b[39m) \u001b[39melse\u001b[39;00m line\u001b[39m.\u001b[39mdecode(encoding) \u001b[39mfor\u001b[39;00m line \u001b[39min\u001b[39;00m path)\n\u001b[1;32m--> <a href='file:///c%3A/Users/peter/AppData/Local/Packages/PythonSoftwareFoundation.Python.3.10_qbz5n2kfra8p0/LocalCache/local-packages/Python310/site-packages/networkx/readwrite/edgelist.py?line=372'>373</a>\u001b[0m \u001b[39mreturn\u001b[39;00m parse_edgelist(\n\u001b[0;32m    <a href='file:///c%3A/Users/peter/AppData/Local/Packages/PythonSoftwareFoundation.Python.3.10_qbz5n2kfra8p0/LocalCache/local-packages/Python310/site-packages/networkx/readwrite/edgelist.py?line=373'>374</a>\u001b[0m     lines,\n\u001b[0;32m    <a href='file:///c%3A/Users/peter/AppData/Local/Packages/PythonSoftwareFoundation.Python.3.10_qbz5n2kfra8p0/LocalCache/local-packages/Python310/site-packages/networkx/readwrite/edgelist.py?line=374'>375</a>\u001b[0m     comments\u001b[39m=\u001b[39;49mcomments,\n\u001b[0;32m    <a href='file:///c%3A/Users/peter/AppData/Local/Packages/PythonSoftwareFoundation.Python.3.10_qbz5n2kfra8p0/LocalCache/local-packages/Python310/site-packages/networkx/readwrite/edgelist.py?line=375'>376</a>\u001b[0m     delimiter\u001b[39m=\u001b[39;49mdelimiter,\n\u001b[0;32m    <a href='file:///c%3A/Users/peter/AppData/Local/Packages/PythonSoftwareFoundation.Python.3.10_qbz5n2kfra8p0/LocalCache/local-packages/Python310/site-packages/networkx/readwrite/edgelist.py?line=376'>377</a>\u001b[0m     create_using\u001b[39m=\u001b[39;49mcreate_using,\n\u001b[0;32m    <a href='file:///c%3A/Users/peter/AppData/Local/Packages/PythonSoftwareFoundation.Python.3.10_qbz5n2kfra8p0/LocalCache/local-packages/Python310/site-packages/networkx/readwrite/edgelist.py?line=377'>378</a>\u001b[0m     nodetype\u001b[39m=\u001b[39;49mnodetype,\n\u001b[0;32m    <a href='file:///c%3A/Users/peter/AppData/Local/Packages/PythonSoftwareFoundation.Python.3.10_qbz5n2kfra8p0/LocalCache/local-packages/Python310/site-packages/networkx/readwrite/edgelist.py?line=378'>379</a>\u001b[0m     data\u001b[39m=\u001b[39;49mdata,\n\u001b[0;32m    <a href='file:///c%3A/Users/peter/AppData/Local/Packages/PythonSoftwareFoundation.Python.3.10_qbz5n2kfra8p0/LocalCache/local-packages/Python310/site-packages/networkx/readwrite/edgelist.py?line=379'>380</a>\u001b[0m )\n",
      "File \u001b[1;32m~\\AppData\\Local\\Packages\\PythonSoftwareFoundation.Python.3.10_qbz5n2kfra8p0\\LocalCache\\local-packages\\Python310\\site-packages\\networkx\\readwrite\\edgelist.py:274\u001b[0m, in \u001b[0;36mparse_edgelist\u001b[1;34m(lines, comments, delimiter, create_using, nodetype, data)\u001b[0m\n\u001b[0;32m    <a href='file:///c%3A/Users/peter/AppData/Local/Packages/PythonSoftwareFoundation.Python.3.10_qbz5n2kfra8p0/LocalCache/local-packages/Python310/site-packages/networkx/readwrite/edgelist.py?line=271'>272</a>\u001b[0m         edgedata \u001b[39m=\u001b[39m \u001b[39mdict\u001b[39m(literal_eval(edgedata_str\u001b[39m.\u001b[39mstrip()))\n\u001b[0;32m    <a href='file:///c%3A/Users/peter/AppData/Local/Packages/PythonSoftwareFoundation.Python.3.10_qbz5n2kfra8p0/LocalCache/local-packages/Python310/site-packages/networkx/readwrite/edgelist.py?line=272'>273</a>\u001b[0m     \u001b[39mexcept\u001b[39;00m \u001b[39mException\u001b[39;00m \u001b[39mas\u001b[39;00m e:\n\u001b[1;32m--> <a href='file:///c%3A/Users/peter/AppData/Local/Packages/PythonSoftwareFoundation.Python.3.10_qbz5n2kfra8p0/LocalCache/local-packages/Python310/site-packages/networkx/readwrite/edgelist.py?line=273'>274</a>\u001b[0m         \u001b[39mraise\u001b[39;00m \u001b[39mTypeError\u001b[39;00m(\n\u001b[0;32m    <a href='file:///c%3A/Users/peter/AppData/Local/Packages/PythonSoftwareFoundation.Python.3.10_qbz5n2kfra8p0/LocalCache/local-packages/Python310/site-packages/networkx/readwrite/edgelist.py?line=274'>275</a>\u001b[0m             \u001b[39mf\u001b[39m\u001b[39m\"\u001b[39m\u001b[39mFailed to convert edge data (\u001b[39m\u001b[39m{\u001b[39;00md\u001b[39m}\u001b[39;00m\u001b[39m) to dictionary.\u001b[39m\u001b[39m\"\u001b[39m\n\u001b[0;32m    <a href='file:///c%3A/Users/peter/AppData/Local/Packages/PythonSoftwareFoundation.Python.3.10_qbz5n2kfra8p0/LocalCache/local-packages/Python310/site-packages/networkx/readwrite/edgelist.py?line=275'>276</a>\u001b[0m         ) \u001b[39mfrom\u001b[39;00m \u001b[39me\u001b[39;00m\n\u001b[0;32m    <a href='file:///c%3A/Users/peter/AppData/Local/Packages/PythonSoftwareFoundation.Python.3.10_qbz5n2kfra8p0/LocalCache/local-packages/Python310/site-packages/networkx/readwrite/edgelist.py?line=276'>277</a>\u001b[0m \u001b[39melse\u001b[39;00m:\n\u001b[0;32m    <a href='file:///c%3A/Users/peter/AppData/Local/Packages/PythonSoftwareFoundation.Python.3.10_qbz5n2kfra8p0/LocalCache/local-packages/Python310/site-packages/networkx/readwrite/edgelist.py?line=277'>278</a>\u001b[0m     \u001b[39m# convert edge data to dictionary with specified keys and type\u001b[39;00m\n\u001b[0;32m    <a href='file:///c%3A/Users/peter/AppData/Local/Packages/PythonSoftwareFoundation.Python.3.10_qbz5n2kfra8p0/LocalCache/local-packages/Python310/site-packages/networkx/readwrite/edgelist.py?line=278'>279</a>\u001b[0m     \u001b[39mif\u001b[39;00m \u001b[39mlen\u001b[39m(d) \u001b[39m!=\u001b[39m \u001b[39mlen\u001b[39m(data):\n",
      "\u001b[1;31mTypeError\u001b[0m: Failed to convert edge data (['of', 'an', 'automated', 'system', 'for', 'the', 'quality', 'assessment', 'of', 'aerodrome', 'ground', 'lighting', '(AGL),', 'in', 'accordance', 'with', 'associated', 'standards', 'and', 'recommendations,', 'is', 'presented.', 'The', 'system', 'is', 'composed', 'of', 'an', 'image', 'sensor,', 'placed', 'inside', 'the', 'cockpit', 'of', 'an', 'aircraft', 'to', 'record', 'images', 'of', 'the', 'AGL', 'during', 'a', 'normal', 'descent', 'to', 'an', 'aerodrome.', 'A', 'model-based', 'methodology', 'is', 'used', 'to', 'ascertain', 'the', 'optimum', 'match', 'between', 'a', 'template', 'of', 'the', 'AGL', 'and', 'the', 'actual', 'image', 'data', 'in', 'order', 'to', 'calculate', 'the', 'position', 'and', 'orientation', 'of', 'the', 'camera', 'at', 'the', 'instant', 'the', 'image', 'was', 'acquired.', 'The', 'camera', 'position', 'and', 'orientation', 'data', 'are', 'used', 'along', 'with', 'the', 'pixel', 'grey', 'level', 'for', 'each', 'imaged', 'luminaire,', 'to', 'estimate', 'a', 'value', 'for', 'the', 'luminous', 'intensity', 'of', 'a', 'given', 'luminaire.', 'This', 'can', 'then', 'be', 'compared', 'with', 'the', 'expected', 'brightness', 'for', 'that', 'luminaire', 'to', 'ensure', 'it', 'is', 'operating', 'to', 'the', 'required', 'standards.', 'As', 'such,', 'a', 'metric', 'for', 'the', 'quality', 'of', 'the', 'AGL', 'pattern', 'is', 'determined.', 'Experiments', 'on', 'real', 'image', 'data', 'is', 'presented', 'to', 'demonstrate', 'the', 'application', 'and', 'effectiveness', 'of', 'the', 'system.']) to dictionary."
     ]
    }
   ],
   "source": [
    "\n",
    "\n",
    "#Run this line to generate feature Set\n",
    "main(filename=fn,model=\"combined\",combine_num=cn, feature_name=feature_set, neg_mode=\"easy\")\n",
    "\n"
   ]
  },
  {
   "cell_type": "code",
   "execution_count": null,
   "id": "2c44876b",
   "metadata": {},
   "outputs": [],
   "source": [
    "\n",
    "\n",
    "r=np.loadtxt(open(\"features_combined_\"+str(cn)+\".csv\", \"rb\"), delimiter=\",\", skiprows=1);\n",
    "\n"
   ]
  },
  {
   "cell_type": "code",
   "execution_count": null,
   "id": "7fc66393",
   "metadata": {},
   "outputs": [],
   "source": [
    "l,b=r.shape;"
   ]
  },
  {
   "cell_type": "code",
   "execution_count": null,
   "id": "add6833a",
   "metadata": {},
   "outputs": [],
   "source": [
    "np.random.shuffle(r);"
   ]
  },
  {
   "cell_type": "code",
   "execution_count": null,
   "id": "8c36393c",
   "metadata": {},
   "outputs": [],
   "source": [
    "train_l=int(0.75*l)\n",
    "X_train=r[0:train_l,0:b-1]\n",
    "Y_train=r[0:train_l,b-1]\n",
    "X_test=r[train_l:l,0:b-1]\n",
    "Y_test=r[train_l:l,b-1]\n",
    "X_train = normalize(X_train, axis=0, norm='max')\n",
    "X_test = normalize(X_test, axis=0, norm='max')\n",
    "scaler = StandardScaler()  \n",
    "scaler.fit(X_train)  \n",
    "X_train = scaler.transform(X_train)  \n",
    "X_test = scaler.transform(X_test)  "
   ]
  },
  {
   "cell_type": "code",
   "execution_count": null,
   "id": "dd2fa7e8",
   "metadata": {},
   "outputs": [],
   "source": [
    "\n",
    "\n",
    "def mySvm(training, training_labels, testing, testing_labels):\n",
    "    #Support Vector Machine\n",
    "    start = datetime.datetime.now()\n",
    "    clf = svm.SVC()\n",
    "    clf.fit(training, training_labels)\n",
    "    print (\"+++++++++ Finishing training the SVM classifier ++++++++++++\")\n",
    "    result = clf.predict(testing)\n",
    "\n",
    "    print (\"SVM accuracy:\", accuracy_score(testing_labels, result))\n",
    "    #keep the time\n",
    "    finish = datetime.datetime.now()\n",
    "    print ((finish-start).seconds)\n",
    "\n"
   ]
  },
  {
   "cell_type": "code",
   "execution_count": null,
   "id": "5f21916d",
   "metadata": {},
   "outputs": [],
   "source": [
    "\n",
    "\n",
    "#Run this to for SVM classification\n",
    "mySvm(X_train,Y_train,X_test,Y_test)\n",
    "\n"
   ]
  },
  {
   "cell_type": "code",
   "execution_count": null,
   "id": "5e1bfd86",
   "metadata": {},
   "outputs": [],
   "source": [
    "def logistic(training, training_labels, testing, testing_labels):\n",
    "    clf = LogisticRegression(random_state=0, solver='lbfgs',multi_class='ovr').fit(training, training_labels)\n",
    "    start = datetime.datetime.now()\n",
    "    clf.fit(training, training_labels)\n",
    "    result=clf.predict(testing)\n",
    "    print (\"+++++++++ Finishing training the Linear classifier ++++++++++++\")\n",
    "    print (\"Linear accuracy:\", accuracy_score(testing_labels, result))\n",
    "    #keep the time\n",
    "    finish = datetime.datetime.now()\n",
    "    print ((finish-start).seconds)"
   ]
  },
  {
   "cell_type": "code",
   "execution_count": null,
   "id": "450f24a5",
   "metadata": {},
   "outputs": [],
   "source": [
    "#Run this for Logistic Regression\n",
    "logistic(X_train,Y_train,X_test,Y_test)"
   ]
  },
  {
   "cell_type": "code",
   "execution_count": null,
   "id": "f98a1165",
   "metadata": {},
   "outputs": [],
   "source": [
    "def ANN(training, training_labels, testing, testing_labels):\n",
    "    clf = MLPClassifier(solver='adam', alpha=1e-5,hidden_layer_sizes=(15,9), random_state=1)\n",
    "    start = datetime.datetime.now()\n",
    "    clf.fit(training, training_labels)\n",
    "    print (\"+++++++++ Finishing training the ANN classifier ++++++++++++\")\n",
    "    result = clf.predict(testing)\n",
    "\n",
    "    print (\"ANN accuracy:\", accuracy_score(testing_labels, result))\n",
    "    #keep the time\n",
    "    finish = datetime.datetime.now()\n",
    "    print ((finish-start).seconds)"
   ]
  },
  {
   "cell_type": "code",
   "execution_count": null,
   "id": "df75f49b",
   "metadata": {},
   "outputs": [],
   "source": [
    "# Run this for ANN classification\n",
    "ANN(X_train,Y_train,X_test,Y_test)"
   ]
  }
 ],
 "metadata": {
  "interpreter": {
   "hash": "a9f1f59101e07bffb7c2ecfaca1a3c7ffe3cd326ee75e914ab1b038684b38c5a"
  },
  "kernelspec": {
   "display_name": "Python 3.10.4 64-bit (windows store)",
   "language": "python",
   "name": "python3"
  },
  "language_info": {
   "codemirror_mode": {
    "name": "ipython",
    "version": 3
   },
   "file_extension": ".py",
   "mimetype": "text/x-python",
   "name": "python",
   "nbconvert_exporter": "python",
   "pygments_lexer": "ipython3",
   "version": "3.10.4"
  }
 },
 "nbformat": 4,
 "nbformat_minor": 5
}
